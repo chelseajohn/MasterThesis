{
 "cells": [
  {
   "cell_type": "code",
   "execution_count": null,
   "metadata": {},
   "outputs": [],
   "source": [
    "%matplotlib inline\n",
    "import numpy as np\n",
    "import matplotlib\n",
    "matplotlib.use('Agg')\n",
    "import matplotlib.pyplot as plt\n",
    "from models import GaussianDistribution, build\n",
    "from hmc_sampler import hamiltonian\n",
    "from sklearn import preprocessing\n",
    "from surrogate import NeuralGrad"
   ]
  },
  {
   "cell_type": "code",
   "execution_count": null,
   "metadata": {},
   "outputs": [],
   "source": [
    "# Dimension of parameter space and number of training points\n",
    "dim_gaussian = 20\n",
    "num_training = 1000"
   ]
  },
  {
   "cell_type": "code",
   "execution_count": null,
   "metadata": {},
   "outputs": [],
   "source": [
    "# Gaussian distribution with mean and  covariance Matrix\n",
    "mu = np.zeros(dim_gaussian)\n",
    "var = np.ones(dim_gaussian)\n",
    "test_model = GaussianDistribution(mu,var)"
   ]
  },
  {
   "cell_type": "code",
   "execution_count": null,
   "metadata": {},
   "outputs": [],
   "source": [
    "# Generate training data\n",
    "\n",
    "training_data = test_model.sample(num_training)\n",
    "#print(training_data.shape)\n",
    "energy = np.zeros(training_data.shape[0])\n",
    "gradient = np.zeros((training_data.shape[0],training_data.shape[1]))\n",
    "for i in range(training_data.shape[0]):\n",
    "    energy[i] = test_model.energy(training_data[i,:])\n",
    "    gradient[i] =test_model.gradient(training_data[i,:])\n"
   ]
  },
  {
   "cell_type": "code",
   "execution_count": null,
   "metadata": {},
   "outputs": [],
   "source": [
    "fig = plt.figure(figsize=(6,4))\n",
    "plt.xlim(-5,5)\n",
    "plt.ylim(-5,5)\n",
    "plt.plot(training_data[:,0],training_data[:,1],'o',alpha=1.5)\n",
    "plt.show()\n"
   ]
  },
  {
   "cell_type": "code",
   "execution_count": null,
   "metadata": {
    "scrolled": true
   },
   "outputs": [],
   "source": [
    " # Train the NN to approximate gradient\n",
    "\n",
    "scaled_data = preprocessing.StandardScaler().fit(training_data)\n",
    "training_data = preprocessing.scale(training_data)\n",
    "model = build(dim_gaussian, [50], [dim_gaussian])\n",
    "model.fit(training_data, gradient, epochs=10, batch_size=20)"
   ]
  },
  {
   "cell_type": "code",
   "execution_count": null,
   "metadata": {},
   "outputs": [],
   "source": [
    " #Using the NN inside HMC to sample points\n",
    "grad_hat = NeuralGrad(model,scaled_data)\n",
    "nnghmc_draws = hamiltonian(model=test_model, sample_size=1000, leapfrog_steps=10, stepsize=0.1,surrogate=grad_hat)[0]"
   ]
  },
  {
   "cell_type": "code",
   "execution_count": null,
   "metadata": {},
   "outputs": [],
   "source": [
    "# Trace plots to see convergence\n",
    "fig = plt.figure(figsize=(10, 2))\n",
    "plt.plot(nnghmc_draws[:, 0])\n"
   ]
  },
  {
   "cell_type": "code",
   "execution_count": null,
   "metadata": {
    "scrolled": true
   },
   "outputs": [],
   "source": [
    "#NNgHMC draws \n",
    "fig = plt.figure(figsize=(6, 4), dpi=200)\n",
    "plt.xlim(-5, 5)\n",
    "plt.ylim(-5, 5)\n",
    "plt.plot(nnghmc_draws[:, 0], nnghmc_draws[:, 1], 'o', alpha=0.5,label='NNgHMC')\n",
    "plt.plot(training_data[:,0],training_data[:,1],'ro',alpha=0.5,label=\"training\")\n",
    "plt.legend()\n",
    "# plt.savefig(\"result.jpg\")"
   ]
  },
  {
   "cell_type": "code",
   "execution_count": null,
   "metadata": {},
   "outputs": [],
   "source": []
  }
 ],
 "metadata": {
  "kernelspec": {
   "display_name": "Python 3",
   "language": "python",
   "name": "python3"
  },
  "language_info": {
   "codemirror_mode": {
    "name": "ipython",
    "version": 3
   },
   "file_extension": ".py",
   "mimetype": "text/x-python",
   "name": "python",
   "nbconvert_exporter": "python",
   "pygments_lexer": "ipython3",
   "version": "3.7.4"
  }
 },
 "nbformat": 4,
 "nbformat_minor": 2
}
