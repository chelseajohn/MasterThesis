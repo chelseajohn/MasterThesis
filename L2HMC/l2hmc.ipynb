{
 "cells": [
  {
   "cell_type": "markdown",
   "metadata": {},
   "source": [
    "This notebook executes L2HMC  to solve for Hexagonal Lattice Hubbard model"
   ]
  },
  {
   "cell_type": "code",
   "execution_count": 1,
   "metadata": {},
   "outputs": [],
   "source": [
    "%matplotlib inline\n",
    "%reload_ext autoreload\n",
    "%autoreload 2\n",
    "import warnings\n",
    "warnings.filterwarnings('ignore')"
   ]
  },
  {
   "cell_type": "code",
   "execution_count": 2,
   "metadata": {},
   "outputs": [],
   "source": [
    "import sys\n",
    "import os\n",
    "import torch\n",
    "import torch.nn as nn\n",
    "from torch.optim import Adam\n",
    "from torch.optim.lr_scheduler import ExponentialLR, StepLR\n",
    "from tqdm.notebook import tqdm\n",
    "import itertools\n",
    "import numpy as np\n",
    "import random\n",
    "import matplotlib as mpl\n",
    "import matplotlib.pyplot as plt\n",
    "from IPython.core.debugger import set_trace\n",
    "device = 'cpu'"
   ]
  },
  {
   "cell_type": "code",
   "execution_count": 3,
   "metadata": {},
   "outputs": [],
   "source": [
    "torchType = torch.float32\n",
    "numpyType = np.float32"
   ]
  },
  {
   "cell_type": "code",
   "execution_count": 4,
   "metadata": {},
   "outputs": [],
   "source": [
    "def calcExpK(delta):\n",
    "    \"\"\"Function that calculates exponential of hopping matrix\"\"\"\n",
    "    return [[np.cosh(delta),np.sinh(delta)],[np.sinh(delta),np.cosh(delta)]]\n"
   ]
  },
  {
   "cell_type": "code",
   "execution_count": 5,
   "metadata": {},
   "outputs": [],
   "source": [
    "def Mphi(phi, expk, nt):\n",
    "    \"\"\"\n",
    "    Function that updates the Fermion matrix using exponential discretization\n",
    "    INPUT:\n",
    "            phi - phi field (array)\n",
    "            k - hopping parameter (array)\n",
    "            nt - number of time steps\n",
    "                        \n",
    "    OUTPUT:\n",
    "            M - fermion matrix (update M) \n",
    "            \n",
    "            This uses space index fastest (like Isle)\n",
    "    \"\"\"\n",
    "    n = len(phi)\n",
    "    nx = int(n/nt)\n",
    "    if n == M.shape[0]: # this tests if the phi array has the right dimensions\n",
    "        for t in range(nt-1): # loop over time bloks\n",
    "            for x in range(nx): # loop over cords and kappa matrix\n",
    "                M[t*nx+x][t*nx+x] = 1.0 + 0j # diagonal term\n",
    "                for y in range(nx): # run over the kappa matrix\n",
    "                    M[(t+1)*nx+x][t*nx+y] = -expk[x][y]*np.exp(1j*phi[t*nx+y]) # off-diagonal\n",
    "        for x in range(nx): \n",
    "            M[(nt-1)*nx+x][(nt-1)*nx+x] = 1.0+0j # diagonal term\n",
    "            for y in range(nx): # anti-periodic boundary condition\n",
    "                M[x][(nt-1)*nx+y] = expk[x][y]*np.exp(1j*phi[(nt-1)*nx+y])\n",
    "        return 0\n",
    "    else:\n",
    "        print('# Error! phi and M have inconsistent dimensions!')\n",
    "        return -1"
   ]
  },
  {
   "cell_type": "code",
   "execution_count": 6,
   "metadata": {},
   "outputs": [],
   "source": [
    "# %store actual_HMC\n",
    "#data from running state of the art HMC \n",
    "# actual_HMC = np.load(\"actualHMCU2B4Nt16.npy\")\n",
    "# HMCNotebook = np.array(actual_HMC)\n",
    "# print(\"HMCNotebook shape=\",HMCNotebook.shape)"
   ]
  },
  {
   "cell_type": "markdown",
   "metadata": {},
   "source": [
    "## initialize constants for the HH"
   ]
  },
  {
   "cell_type": "code",
   "execution_count": 7,
   "metadata": {},
   "outputs": [
    {
     "name": "stdout",
     "output_type": "stream",
     "text": [
      "U = 4.0, beta = 6.0, Nt = 32, Nx = 2, Usqrt = 0.8660254037844386, x_dim = 64\n"
     ]
    }
   ],
   "source": [
    "U=4.                     # spin coupling\n",
    "beta=6.                  # inverse temperature\n",
    "Nt=32            # number of time steps\n",
    "Nx = 2                   # number of sites\n",
    "delta = beta/Nt          # time discretization\n",
    "deltaU = delta*U           #reduced U\n",
    "usqrt = np.sqrt(deltaU)\n",
    "expk = calcExpK(delta)   # exp(kappa)\n",
    "x_dim = Nt*Nx\n",
    "print(f\"U = {U}, beta = {beta}, Nt = {Nt}, Nx = {Nx}, Usqrt = {usqrt}, x_dim = {x_dim}\")"
   ]
  },
  {
   "cell_type": "markdown",
   "metadata": {},
   "source": [
    "## L2HMC executing the state of the art HMC when the NN is turned off"
   ]
  },
  {
   "cell_type": "code",
   "execution_count": 8,
   "metadata": {},
   "outputs": [],
   "source": [
    "def get_hmc_samples(x_dim, eps, T=10, steps=10, samples=None):\n",
    "    hmc_dynamics = Dynamics(x_dim,deltaU,expk,Nt,T, eps,n_samples, hmc=True)\n",
    "    if samples is None:\n",
    "        samples = torch.normal(0.0,usqrt,size=(n_samples,x_dim))\n",
    "#         samples = torch.tensor(HMCNotebook[:n_samples], dtype=torch.float32)\n",
    "\n",
    "    final_samples = []\n",
    "    samples_accepted = []\n",
    "    HMC_px = []\n",
    "    with torch.no_grad():\n",
    "        for _ in tqdm(range(steps)): \n",
    "            _, _, prob, samples = propose(samples,n_samples, hmc_dynamics, do_mh_step=True) # new coordinates, new momenta, new acceptance probability,[accepted coordinate,mask]\n",
    "            HMC_px.append(prob.detach().numpy())\n",
    "            samples_accepted.append(samples[0][1].detach().numpy())\n",
    "            samples = samples[0][0]\n",
    "            final_samples.append(samples.detach().numpy())  \n",
    "  \n",
    "    return np.array(final_samples),np.array(HMC_px),np.array(samples_accepted)"
   ]
  },
  {
   "cell_type": "code",
   "execution_count": 9,
   "metadata": {},
   "outputs": [
    {
     "data": {
      "application/vnd.jupyter.widget-view+json": {
       "model_id": "302b9c6c8cae4a7fbfd95b2230f59b4a",
       "version_major": 2,
       "version_minor": 0
      },
      "text/plain": [
       "  0%|          | 0/10000 [00:00<?, ?it/s]"
      ]
     },
     "metadata": {},
     "output_type": "display_data"
    }
   ],
   "source": [
    "#configuartions using  L2HMC without NN\n",
    "from dynamics import Dynamics\n",
    "from samplerModified import propose\n",
    "\n",
    "eps = 0.2\n",
    "Nmd = 5\n",
    "n_samples = 1\n",
    "nTrajs = 10000\n",
    "with torch.no_grad():\n",
    "    HMC_samples,HMC_prob,HMC_accepted = get_hmc_samples(x_dim,eps,T=Nmd,steps=nTrajs)\n"
   ]
  },
  {
   "cell_type": "code",
   "execution_count": 10,
   "metadata": {},
   "outputs": [
    {
     "name": "stdout",
     "output_type": "stream",
     "text": [
      "HMC samples shape = (10000, 1, 64)\n",
      "HMC mean px= 0.81058574\n",
      "HMC acceptance prob= 0.81\n",
      "HMC samples reshaped= (10000, 64)\n"
     ]
    }
   ],
   "source": [
    "HMC_samples_reduced = HMC_samples.reshape(nTrajs,x_dim)\n",
    "print(\"HMC samples shape =\",HMC_samples.shape)\n",
    "print(\"HMC mean px=\",np.mean(HMC_prob))\n",
    "print(\"HMC acceptance prob=\",sum(HMC_accepted)/len(HMC_accepted))\n",
    "print(\"HMC samples reshaped=\",HMC_samples_reduced.shape)"
   ]
  },
  {
   "cell_type": "markdown",
   "metadata": {},
   "source": [
    "# Network architecture\n"
   ]
  },
  {
   "cell_type": "markdown",
   "metadata": {},
   "source": [
    "\n",
    "We define the network architecture for our L2HMC network. We first embed the first two variables ($\\{x, \\partial_x U\\}$ or $\\{v, x_m\\}$) as well as the time, formatted as $\\tau(t) = \\left(\\cos(\\frac{2\\pi t}{M}), \\sin(\\frac{2\\pi t}{M})\\right)$. They are forwarded through an MLP and then produce $S, T$ and $Q$."
   ]
  },
  {
   "cell_type": "markdown",
   "metadata": {},
   "source": [
    "# Training L2HMC"
   ]
  },
  {
   "cell_type": "code",
   "execution_count": null,
   "metadata": {
    "scrolled": false
   },
   "outputs": [
    {
     "name": "stdout",
     "output_type": "stream",
     "text": [
      "U = 4.0, beta = 6.0, Nt = 32, Nx = 2, Usqrt = 0.8660254037844386, x_dim = 64\n"
     ]
    },
    {
     "data": {
      "application/vnd.jupyter.widget-view+json": {
       "model_id": "0ee1e3fe5df74fd0874596ae469214c1",
       "version_major": 2,
       "version_minor": 0
      },
      "text/plain": [
       "  0%|          | 0/400 [00:00<?, ?it/s]"
      ]
     },
     "metadata": {},
     "output_type": "display_data"
    },
    {
     "name": "stdout",
     "output_type": "stream",
     "text": [
      "Step: 0 / 400, Loss: -4.95e+00,Acceptance sample prob: 0.67,scale: 0.1000,eps: 0.0100, LR: 0.00100\n",
      "Step: 10 / 400, Loss: -7.93e+00,Acceptance sample prob: 0.45,scale: 0.1000,eps: 0.0101, LR: 0.00100\n",
      "Step: 20 / 400, Loss: -9.09e+00,Acceptance sample prob: 0.26,scale: 0.1000,eps: 0.0101, LR: 0.00100\n",
      "Step: 30 / 400, Loss: -1.56e+01,Acceptance sample prob: 0.36,scale: 0.1000,eps: 0.0101, LR: 0.00100\n",
      "Step: 40 / 400, Loss: -8.05e+00,Acceptance sample prob: 0.28,scale: 0.1000,eps: 0.0100, LR: 0.00100\n",
      "Step: 50 / 400, Loss: -1.17e+01,Acceptance sample prob: 0.25,scale: 0.1000,eps: 0.0100, LR: 0.00100\n",
      "Step: 60 / 400, Loss: -8.22e+00,Acceptance sample prob: 0.37,scale: 0.1000,eps: 0.0099, LR: 0.00100\n",
      "Step: 70 / 400, Loss: 4.14e+02,Acceptance sample prob: 0.36,scale: 0.1000,eps: 0.0099, LR: 0.00100\n",
      "Step: 80 / 400, Loss: -1.15e+01,Acceptance sample prob: 0.40,scale: 0.1000,eps: 0.0099, LR: 0.00100\n",
      "Step: 90 / 400, Loss: -1.05e+01,Acceptance sample prob: 0.37,scale: 0.1000,eps: 0.0098, LR: 0.00100\n",
      "Step: 100 / 400, Loss: -1.46e+01,Acceptance sample prob: 0.31,scale: 0.1000,eps: 0.0098, LR: 0.00100\n",
      "Step: 110 / 400, Loss: -1.05e+01,Acceptance sample prob: 0.38,scale: 0.1000,eps: 0.0098, LR: 0.00100\n",
      "Step: 120 / 400, Loss: -1.41e+01,Acceptance sample prob: 0.30,scale: 0.1000,eps: 0.0097, LR: 0.00100\n",
      "Step: 130 / 400, Loss: -1.12e+01,Acceptance sample prob: 0.34,scale: 0.1000,eps: 0.0097, LR: 0.00100\n",
      "Step: 140 / 400, Loss: -4.87e+00,Acceptance sample prob: 0.24,scale: 0.1000,eps: 0.0097, LR: 0.00100\n",
      "Step: 150 / 400, Loss: 4.81e+01,Acceptance sample prob: 0.40,scale: 0.1000,eps: 0.0096, LR: 0.00100\n",
      "Step: 160 / 400, Loss: 6.14e+00,Acceptance sample prob: 0.42,scale: 0.1000,eps: 0.0096, LR: 0.00100\n",
      "Step: 170 / 400, Loss: -8.70e+00,Acceptance sample prob: 0.45,scale: 0.1000,eps: 0.0096, LR: 0.00100\n",
      "Step: 180 / 400, Loss: -7.15e+00,Acceptance sample prob: 0.42,scale: 0.1000,eps: 0.0096, LR: 0.00100\n",
      "Step: 190 / 400, Loss: -1.18e+01,Acceptance sample prob: 0.37,scale: 0.1000,eps: 0.0095, LR: 0.00100\n",
      "Step: 200 / 400, Loss: -1.86e+01,Acceptance sample prob: 0.47,scale: 0.1000,eps: 0.0095, LR: 0.00100\n",
      "Step: 210 / 400, Loss: 7.82e+02,Acceptance sample prob: 0.29,scale: 0.1000,eps: 0.0095, LR: 0.00100\n",
      "Step: 220 / 400, Loss: -1.47e+01,Acceptance sample prob: 0.41,scale: 0.1000,eps: 0.0094, LR: 0.00100\n",
      "Step: 230 / 400, Loss: -1.18e+01,Acceptance sample prob: 0.37,scale: 0.1000,eps: 0.0093, LR: 0.00100\n",
      "Step: 240 / 400, Loss: -1.36e+01,Acceptance sample prob: 0.31,scale: 0.1000,eps: 0.0092, LR: 0.00100\n",
      "Step: 250 / 400, Loss: -2.35e+01,Acceptance sample prob: 0.42,scale: 0.1000,eps: 0.0092, LR: 0.00100\n",
      "Step: 260 / 400, Loss: -9.60e+00,Acceptance sample prob: 0.33,scale: 0.1000,eps: 0.0091, LR: 0.00100\n",
      "Step: 270 / 400, Loss: 3.89e+02,Acceptance sample prob: 0.26,scale: 0.1000,eps: 0.0091, LR: 0.00100\n",
      "Step: 280 / 400, Loss: 1.63e+01,Acceptance sample prob: 0.40,scale: 0.1000,eps: 0.0091, LR: 0.00100\n",
      "Step: 290 / 400, Loss: -6.62e+00,Acceptance sample prob: 0.16,scale: 0.1000,eps: 0.0090, LR: 0.00100\n",
      "Step: 300 / 400, Loss: -1.72e+01,Acceptance sample prob: 0.40,scale: 0.1000,eps: 0.0090, LR: 0.00100\n",
      "Step: 310 / 400, Loss: 6.45e+00,Acceptance sample prob: 0.15,scale: 0.1000,eps: 0.0090, LR: 0.00100\n",
      "Step: 320 / 400, Loss: -1.04e+01,Acceptance sample prob: 0.33,scale: 0.1000,eps: 0.0090, LR: 0.00100\n"
     ]
    }
   ],
   "source": [
    "from dynamics import Dynamics\n",
    "from layers import Net\n",
    "from samplerModified import propose\n",
    "\n",
    "print(f\"U = {U}, beta = {beta}, Nt = {Nt}, Nx = {Nx}, Usqrt = {usqrt}, x_dim = {x_dim}\")\n",
    "eps = 0.01\n",
    "Nmd = 5\n",
    "loss_plot = []\n",
    "epochs = 400\n",
    "training_samples = 200\n",
    "scale_trainable = True\n",
    "scale_const = torch.tensor(0.2) \n",
    "scale = torch.tensor(0.1)\n",
    "# scale = nn.Parameter(torch.tensor(scale_const,dtype=torchType),requires_grad=scale_trainable)\n",
    "dynamics = Dynamics(x_dim,deltaU,expk,Nt,T=Nmd, eps=eps,net_factory=Net,eps_trainable=True, use_temperature=False)\n",
    "optim = Adam(dynamics.parameters())\n",
    "# optim = Adam(itertools.chain(dynamics.parameters(), (scale,)))\n",
    "scheduler = StepLR(optim, step_size=100, gamma=0.96)\n",
    "\n",
    "def criterion(v1,v2): #loss function lamda_{b} = 1 : stuck penalty + large moves\n",
    "    return scale * (torch.mean(1.0 / v1) + torch.mean(1.0 / v2) )  + (-torch.mean(v1)-torch.mean(v2)) / scale\n",
    "\n",
    "t = 0\n",
    "# for t in tqdm(range(epochs)):\n",
    "with tqdm(total=epochs) as pbar:\n",
    "    while t < epochs:\n",
    "        if(t==0):\n",
    "             x = torch.normal(0.0,usqrt,size=(training_samples,x_dim))\n",
    "#             x = torch.from_numpy(HMC_samples_reduced[:training_samples])\n",
    "#             x = x.type(torch.float32)\n",
    "    #         v = torch.normal(0.0,1.0,size=(n_samples,x_dim))\n",
    "        else:\n",
    "            x = output[0].data\n",
    "    #         v = Lv.data\n",
    "        \n",
    "#         random_index = torch.randint(0,len(HMC_samples_reduced),size=(training_samples,1))\n",
    "#         z = torch.from_numpy(HMC_samples_reduced[random_index].reshape(training_samples,x_dim))\n",
    "        z = torch.normal(0.0,usqrt,size=(training_samples,x_dim))\n",
    "\n",
    "        optim.zero_grad()\n",
    "        Lx, Lv, px, output,log_jac,directions = propose(x,training_samples, dynamics, do_mh_step=True, temperature=None)\n",
    "        Lz, _, pz, _,_,_ = propose(z,training_samples, dynamics, do_mh_step=False)\n",
    "\n",
    "        v1 = (torch.sum((x - Lx)**2, dim=1) * px) + torch.tensor(1e-4)   #loss on target distribution: burn in regularization\n",
    "        v2 = (torch.sum((z - Lz)**2, dim=1) * pz) + torch.tensor(1e-4)   # loss on initial distribution: fast mixing\n",
    "        loss = criterion(v1,v2) \n",
    "        loss_plot.append(loss)\n",
    "\n",
    "\n",
    "        loss.backward()\n",
    "        optim.step()  \n",
    "        mean_px = np.mean(px.detach().numpy())\n",
    "\n",
    "        if (t % 10 == 0) or (t == epochs-1):\n",
    "            current_lr = None\n",
    "            pbar.update(10)\n",
    "            for param_group in optim.param_groups:\n",
    "                current_lr = param_group['lr']\n",
    "                current_eps = np.exp(param_group['params'][0].detach().numpy())\n",
    "            print ('Step: %d / %d, Loss: %.2e,Acceptance sample prob: %.2f,scale: %.4f,eps: %.4f, LR: %.5f' % (t, epochs, loss.item(),mean_px,scale,current_eps, current_lr))\n",
    "        if t == epochs-1 and  mean_px < 0.60:\n",
    "#             np.abs(loss_plot[-1].detach().numpy()) > 1.0 and\n",
    "            epochs = epochs + 1\n",
    "            pbar.update(1)\n",
    "\n",
    "        t = t + 1  \n",
    "#         scheduler.step()\n",
    "       \n",
    "\n",
    "\n",
    "\n"
   ]
  },
  {
   "cell_type": "code",
   "execution_count": null,
   "metadata": {},
   "outputs": [],
   "source": [
    "# from numba import jit\n",
    "# model_l2hmc = dynamics\n",
    "# torch.jit.script(model_l2hmc)\n",
    "# script_module.save(f\"L2HMC_2sitesU{U}B{beta}Nt{Nt}_{count}.pt\")"
   ]
  },
  {
   "cell_type": "code",
   "execution_count": null,
   "metadata": {},
   "outputs": [],
   "source": [
    "# model_check = torch.jit.load(f\"L2HMC_2sitesU{U}B{beta}Nt{Nt}_{count}.pt\")\n",
    "# for name,param in model_check.named_parameter():\n",
    "#     print(name,param)"
   ]
  },
  {
   "cell_type": "code",
   "execution_count": 107,
   "metadata": {},
   "outputs": [],
   "source": [
    "count = 1 #figure count "
   ]
  },
  {
   "cell_type": "markdown",
   "metadata": {},
   "source": [
    "##  Trained parameters of the network"
   ]
  },
  {
   "cell_type": "code",
   "execution_count": 72,
   "metadata": {},
   "outputs": [
    {
     "name": "stdout",
     "output_type": "stream",
     "text": [
      "{'alpha': {tensor(-4.6052)}, 'XNet.scale_1': {tensor([[-0.0716, -0.0961, -0.0729, -0.0934, -0.0894, -0.0420, -0.0646, -0.0983,\n",
      "         -0.0431, -0.0823, -0.0701, -0.0974, -0.0641, -0.0976, -0.1170, -0.0389,\n",
      "         -0.0651, -0.0725, -0.1082, -0.1090, -0.1025, -0.0596, -0.0577, -0.1213,\n",
      "         -0.0786, -0.0708, -0.0599, -0.0645, -0.0881, -0.1049, -0.0635, -0.0976,\n",
      "         -0.0820, -0.0980, -0.0731, -0.0940, -0.0822, -0.0525, -0.1166, -0.0981,\n",
      "         -0.0541, -0.0834, -0.0921, -0.0959, -0.0835, -0.0741, -0.0679, -0.1008,\n",
      "         -0.0528, -0.0805, -0.1132, -0.0744, -0.0487, -0.0696, -0.0855, -0.0984,\n",
      "         -0.0758, -0.0381, -0.0536, -0.1058, -0.0814, -0.0756, -0.0433, -0.0446]])}, 'XNet.scale_3': {tensor([[ 0.1829,  0.2179,  0.2101,  0.1905,  0.1826,  0.2013,  0.1587,  0.1924,\n",
      "          0.1826,  0.1511,  0.1062,  0.1629,  0.2036,  0.1638,  0.1821,  0.1864,\n",
      "          0.1876,  0.2315,  0.1208,  0.1911,  0.2312,  0.1890,  0.1664,  0.1532,\n",
      "          0.1237,  0.1399,  0.1662,  0.1246,  0.1900,  0.1711,  0.1900,  0.2401,\n",
      "          0.1633,  0.1546,  0.1384,  0.1606,  0.2187,  0.2018,  0.2148,  0.1902,\n",
      "          0.0412,  0.1500,  0.1259,  0.1472,  0.0046,  0.1066,  0.1908,  0.1962,\n",
      "          0.1874,  0.1820,  0.1583,  0.0964,  0.2211,  0.1410,  0.1325,  0.1449,\n",
      "          0.1023,  0.1843, -0.0254,  0.2005,  0.1813,  0.1394,  0.1818,  0.1909]])}, 'XNet.fc_zip_1.weight': {tensor([[ 0.0544, -0.1295,  0.0535,  ..., -0.0854,  0.0604, -0.1711],\n",
      "        [-0.2189, -0.1089, -0.1634,  ...,  0.1642,  0.2216,  0.0637],\n",
      "        [ 0.1998,  0.2107,  0.0152,  ..., -0.1340, -0.0256,  0.0567],\n",
      "        ...,\n",
      "        [ 0.1331, -0.2404, -0.0258,  ..., -0.0454,  0.0668,  0.1707],\n",
      "        [ 0.0201, -0.0188, -0.1167,  ..., -0.1193,  0.0705, -0.3969],\n",
      "        [-0.0640, -0.0232, -0.0259,  ..., -0.2321,  0.0342, -0.2147]])}, 'XNet.fc_zip_1.bias': {tensor([ 0.0520,  0.0373,  0.0412,  0.0389, -0.0016,  0.0238,  0.0403,  0.0251,\n",
      "         0.0189,  0.0272,  0.0497,  0.0115,  0.0470,  0.0259,  0.0451,  0.0070,\n",
      "         0.0391,  0.0593, -0.0348,  0.0091, -0.0070,  0.0468,  0.0242,  0.0286,\n",
      "         0.0041,  0.0253,  0.0213, -0.0462,  0.0441,  0.0116,  0.0263, -0.0516,\n",
      "         0.0245,  0.0238, -0.0198, -0.0225,  0.0600,  0.0385,  0.0628,  0.0286,\n",
      "         0.0005,  0.0128,  0.0279,  0.0476,  0.0249,  0.0283,  0.0369, -0.0396,\n",
      "         0.0286,  0.0314, -0.0186, -0.0615,  0.0263,  0.0300,  0.0310,  0.0435,\n",
      "         0.0277,  0.0520,  0.0128, -0.0055,  0.0537,  0.0311,  0.0591, -0.0548])}, 'XNet.fc_zip_2.weight': {tensor([[ 0.0834, -0.0825, -0.1390,  ...,  0.1452, -0.0462, -0.0895],\n",
      "        [-0.0034,  0.1183, -0.0127,  ...,  0.0526, -0.0877, -0.0177],\n",
      "        [ 0.1325,  0.0960, -0.0085,  ...,  0.0022, -0.0234,  0.0104],\n",
      "        ...,\n",
      "        [-0.0405,  0.0151, -0.0182,  ..., -0.1618, -0.0913,  0.1099],\n",
      "        [-0.0661,  0.0249, -0.1307,  ..., -0.0326,  0.0800, -0.0597],\n",
      "        [-0.0440,  0.0683, -0.0982,  ..., -0.1703,  0.0675,  0.0190]])}, 'XNet.fc_zip_2.bias': {tensor([ 0.0520,  0.0373,  0.0412,  0.0389, -0.0016,  0.0238,  0.0403,  0.0251,\n",
      "         0.0189,  0.0272,  0.0497,  0.0115,  0.0470,  0.0259,  0.0451,  0.0070,\n",
      "         0.0391,  0.0593, -0.0348,  0.0091, -0.0070,  0.0468,  0.0242,  0.0286,\n",
      "         0.0041,  0.0253,  0.0213, -0.0462,  0.0441,  0.0116,  0.0263, -0.0516,\n",
      "         0.0245,  0.0238, -0.0198, -0.0225,  0.0600,  0.0385,  0.0628,  0.0286,\n",
      "         0.0005,  0.0128,  0.0279,  0.0476,  0.0249,  0.0283,  0.0369, -0.0396,\n",
      "         0.0286,  0.0314, -0.0186, -0.0615,  0.0263,  0.0300,  0.0310,  0.0435,\n",
      "         0.0277,  0.0520,  0.0128, -0.0055,  0.0537,  0.0311,  0.0591, -0.0548])}, 'XNet.fc_zip_3.weight': {tensor([[-1.0122e+00,  6.0042e-02],\n",
      "        [ 5.9762e-01, -2.4590e-01],\n",
      "        [ 1.4483e+00,  4.6484e-01],\n",
      "        [-7.6786e-01, -1.3223e+00],\n",
      "        [-3.4860e-01, -8.0261e-01],\n",
      "        [ 1.6528e+00, -1.5245e-01],\n",
      "        [-1.0520e+00, -1.4920e+00],\n",
      "        [-4.8219e-01,  3.3852e-01],\n",
      "        [-8.6105e-02,  1.2621e+00],\n",
      "        [-5.6796e-01,  6.7416e-01],\n",
      "        [ 1.1626e+00, -9.3805e-01],\n",
      "        [ 4.2334e-01,  3.1992e-01],\n",
      "        [ 1.4808e+00,  1.8186e+00],\n",
      "        [-6.7810e-01,  1.1769e+00],\n",
      "        [-8.2014e-01,  1.5100e-02],\n",
      "        [ 4.1345e-01,  3.4423e-02],\n",
      "        [ 1.1568e+00, -2.9031e-01],\n",
      "        [ 3.5180e-01, -4.4358e-01],\n",
      "        [-3.3535e-01,  8.0293e-02],\n",
      "        [ 1.7065e+00,  2.9081e-01],\n",
      "        [-1.3112e-03,  6.4958e-02],\n",
      "        [-3.5141e-01,  1.0714e-01],\n",
      "        [ 1.5823e+00,  2.4085e-01],\n",
      "        [ 1.6209e-02, -5.7644e-01],\n",
      "        [ 1.7791e-01, -1.2331e+00],\n",
      "        [-2.7018e-02, -4.1382e-01],\n",
      "        [-1.6573e-01,  2.6110e-01],\n",
      "        [ 6.8148e-01, -1.1377e-01],\n",
      "        [-2.7989e-02, -1.4233e+00],\n",
      "        [-5.6840e-01,  1.1208e-01],\n",
      "        [-7.6368e-01,  4.7253e-01],\n",
      "        [ 3.0512e-01, -1.7678e-02],\n",
      "        [ 3.0405e-01, -2.2743e-01],\n",
      "        [ 7.0038e-02, -2.7460e-01],\n",
      "        [ 4.4756e-02,  2.7987e-01],\n",
      "        [ 2.2649e-01, -1.2644e+00],\n",
      "        [ 1.1625e+00, -1.1916e+00],\n",
      "        [-2.6266e+00,  1.1833e+00],\n",
      "        [ 1.9899e+00,  6.2503e-01],\n",
      "        [ 3.2197e-01,  1.8022e-01],\n",
      "        [ 1.0994e-01,  6.6753e-01],\n",
      "        [-6.1901e-02, -7.8565e-01],\n",
      "        [-1.8082e+00, -1.5432e-02],\n",
      "        [-4.8306e-01, -9.1491e-02],\n",
      "        [ 5.7326e-01, -1.9753e-01],\n",
      "        [-6.2322e-01,  6.1799e-01],\n",
      "        [-3.4196e-02,  5.7182e-01],\n",
      "        [-9.9992e-01,  1.7190e-01],\n",
      "        [ 6.3599e-01, -1.1841e+00],\n",
      "        [ 1.2955e+00,  7.1700e-01],\n",
      "        [-5.5814e-01,  8.9421e-01],\n",
      "        [ 4.5094e-01, -3.0686e-01],\n",
      "        [ 3.9872e-01,  6.5517e-01],\n",
      "        [-1.8152e+00,  5.6537e-01],\n",
      "        [ 7.0585e-01,  1.7078e+00],\n",
      "        [-8.4338e-01, -1.5131e+00],\n",
      "        [-9.1455e-01, -5.7122e-01],\n",
      "        [ 2.1742e-01, -7.5803e-01],\n",
      "        [ 3.2616e-01, -3.7777e-01],\n",
      "        [-1.0822e+00, -2.2342e-01],\n",
      "        [-1.0881e+00,  2.0069e-01],\n",
      "        [ 2.8434e-01,  4.4466e-01],\n",
      "        [-1.7532e+00, -5.9784e-01],\n",
      "        [-1.1658e-01,  5.0924e-01]])}, 'XNet.fc_zip_3.bias': {tensor([ 0.0520,  0.0373,  0.0412,  0.0389, -0.0016,  0.0238,  0.0403,  0.0251,\n",
      "         0.0189,  0.0272,  0.0497,  0.0115,  0.0470,  0.0259,  0.0451,  0.0070,\n",
      "         0.0391,  0.0593, -0.0348,  0.0091, -0.0070,  0.0468,  0.0242,  0.0286,\n",
      "         0.0041,  0.0253,  0.0213, -0.0462,  0.0441,  0.0116,  0.0263, -0.0516,\n",
      "         0.0245,  0.0238, -0.0198, -0.0225,  0.0600,  0.0385,  0.0628,  0.0286,\n",
      "         0.0005,  0.0128,  0.0279,  0.0476,  0.0249,  0.0283,  0.0369, -0.0396,\n",
      "         0.0286,  0.0314, -0.0186, -0.0615,  0.0263,  0.0300,  0.0310,  0.0435,\n",
      "         0.0277,  0.0520,  0.0128, -0.0055,  0.0537,  0.0311,  0.0591, -0.0548])}, 'XNet.linear.weight': {tensor([[-0.1635, -0.0811, -0.1926,  ..., -0.0546,  0.1268, -0.0431],\n",
      "        [ 0.2549,  0.0424, -0.0240,  ..., -0.0448,  0.1841, -0.0137],\n",
      "        [-0.1877,  0.0465,  0.0840,  ..., -0.3047, -0.0009,  0.0018],\n",
      "        ...,\n",
      "        [ 0.0863,  0.0444,  0.1694,  ..., -0.0328,  0.0310, -0.1440],\n",
      "        [-0.0810, -0.0991, -0.1437,  ...,  0.0103, -0.0012,  0.3693],\n",
      "        [-0.1111, -0.1228,  0.1351,  ..., -0.1327, -0.0886, -0.0709]])}, 'XNet.linear.bias': {tensor([ 0.0364,  0.0358, -0.0015,  0.0177,  0.0600,  0.0756,  0.0293,  0.0178,\n",
      "        -0.0133,  0.0280,  0.0201,  0.0495,  0.0343,  0.0372,  0.0497,  0.0256,\n",
      "         0.0412,  0.0309,  0.0115,  0.0538,  0.0351,  0.0407,  0.0465,  0.0005,\n",
      "         0.0048,  0.0410, -0.0333,  0.0493, -0.0052,  0.0760,  0.0284,  0.0120,\n",
      "         0.0450, -0.0221,  0.0382,  0.0078,  0.0695,  0.0290,  0.0661,  0.0550,\n",
      "         0.0544,  0.0678,  0.0259,  0.0353,  0.0256,  0.0483,  0.0485,  0.0439,\n",
      "        -0.0020, -0.0016,  0.0285,  0.0099,  0.0463,  0.0320,  0.0213,  0.0276,\n",
      "         0.0099,  0.0154, -0.0435,  0.0373,  0.0353,  0.0330,  0.0456,  0.0002])}, 'XNet.fc_par_1.weight': {tensor([[-0.1280, -0.3195,  0.0421,  ..., -0.0166, -0.1903, -0.1712],\n",
      "        [-0.2425, -0.2243, -0.2936,  ..., -0.1034, -0.0941,  0.2597],\n",
      "        [-0.1946,  0.0822, -0.0092,  ...,  0.1297, -0.4507, -0.0535],\n",
      "        ...,\n",
      "        [ 0.0870,  0.1193, -0.1891,  ...,  0.0988, -0.3223,  0.1347],\n",
      "        [-0.0330, -0.0542, -0.0318,  ...,  0.0804, -0.1529, -0.2384],\n",
      "        [-0.1231, -0.0519,  0.1019,  ..., -0.0147,  0.0263,  0.2370]])}, 'XNet.fc_par_1.bias': {tensor([ 0.0167, -0.0142, -0.0275, -0.0086,  0.0269,  0.0449,  0.0193, -0.0548,\n",
      "         0.0684,  0.0057,  0.0408,  0.0462,  0.0331, -0.0063, -0.0012, -0.0058,\n",
      "        -0.0039, -0.0196,  0.0171,  0.0178, -0.0075,  0.0006,  0.0081, -0.0044,\n",
      "        -0.0132,  0.0477,  0.0268,  0.0119,  0.0387, -0.0153, -0.0104, -0.0511,\n",
      "         0.0042,  0.0006, -0.0011, -0.0400, -0.0124, -0.0079, -0.0662,  0.0024,\n",
      "         0.0049, -0.0240,  0.0114,  0.0380, -0.0077,  0.0324, -0.0059,  0.0088,\n",
      "         0.0385, -0.0230,  0.0311, -0.0016, -0.0285, -0.0181, -0.0288,  0.0018,\n",
      "        -0.0027,  0.0404,  0.0044,  0.0031,  0.0444,  0.0006,  0.0051, -0.0523])}, 'XNet.fc_par_2.weight': {tensor([[-0.5919,  0.1147,  0.1880,  ...,  0.0694, -0.2674, -0.0791],\n",
      "        [ 0.1552,  0.0285,  0.0837,  ...,  0.2923,  0.1249, -0.0049],\n",
      "        [ 0.2464,  0.0013,  0.2786,  ...,  0.0568,  0.1484,  0.0988],\n",
      "        ...,\n",
      "        [ 0.0748, -0.1253, -0.0394,  ..., -0.5332, -0.0601, -0.0365],\n",
      "        [-0.0100,  0.1230, -0.0594,  ...,  0.0655, -0.0667,  0.1473],\n",
      "        [-0.0813, -0.0802, -0.2130,  ...,  0.0242, -0.1460, -0.1457]])}, 'XNet.fc_par_2.bias': {tensor([-0.0381,  0.0016,  0.0454,  0.0288, -0.0047,  0.0054,  0.0456,  0.0126,\n",
      "         0.0546, -0.0033,  0.0090,  0.0345,  0.0579, -0.0456,  0.0435,  0.0430,\n",
      "        -0.0498, -0.0017, -0.0184, -0.0129,  0.0405, -0.0450, -0.0348, -0.0496,\n",
      "         0.0321, -0.0426, -0.0192,  0.0498,  0.0498,  0.0568,  0.0037, -0.0408,\n",
      "         0.0463, -0.0563, -0.0125,  0.0151, -0.0383, -0.0321,  0.0618, -0.0715,\n",
      "         0.0107,  0.0370, -0.0196, -0.0072, -0.0329,  0.0195, -0.0819, -0.0683,\n",
      "         0.0371, -0.0831,  0.0646,  0.0014, -0.0085, -0.1012, -0.0116, -0.0794,\n",
      "        -0.0314,  0.0531, -0.0817, -0.0301,  0.0528, -0.0190,  0.0394, -0.0268])}, 'XNet.fc_par_3.weight': {tensor([[ 0.2434,  0.0766,  0.0006,  ...,  0.2922, -0.0457, -0.1329],\n",
      "        [ 0.0440,  0.2438,  0.1899,  ...,  0.1182,  0.1316, -0.1638],\n",
      "        [ 0.0803,  0.0976, -0.0788,  ...,  0.0314,  0.0434, -0.1232],\n",
      "        ...,\n",
      "        [ 0.2254,  0.3343,  0.2053,  ...,  0.1992, -0.1407,  0.0275],\n",
      "        [ 0.2383,  0.0229, -0.1982,  ..., -0.0633, -0.3651,  0.0888],\n",
      "        [ 0.2138, -0.0419,  0.0703,  ..., -0.2146, -0.0433,  0.0790]])}, 'XNet.fc_par_3.bias': {tensor([0.0476, 0.0816, 0.0476, 0.0283, 0.1046, 0.0644, 0.0554, 0.0583, 0.0917,\n",
      "        0.0796, 0.1271, 0.1129, 0.0569, 0.0821, 0.0883, 0.0652, 0.0759, 0.0883,\n",
      "        0.0907, 0.0829, 0.0378, 0.0413, 0.0552, 0.0878, 0.0797, 0.1100, 0.0281,\n",
      "        0.1031, 0.0692, 0.0672, 0.0600, 0.0593, 0.0531, 0.0542, 0.0625, 0.1059,\n",
      "        0.0550, 0.0519, 0.0916, 0.0503, 0.1025, 0.1069, 0.0596, 0.0502, 0.0849,\n",
      "        0.0726, 0.0387, 0.0265, 0.0547, 0.0305, 0.0794, 0.0528, 0.0591, 0.1114,\n",
      "        0.0874, 0.0453, 0.0436, 0.0468, 0.1160, 0.0320, 0.1018, 0.1044, 0.0802,\n",
      "        0.0753])}, 'VNet.scale_1': {tensor([[-0.1431, -0.1194, -0.1153, -0.1347, -0.1343, -0.1297, -0.1411, -0.1512,\n",
      "         -0.1272, -0.1366, -0.1526, -0.0788, -0.1391, -0.1484, -0.1613, -0.1418,\n",
      "         -0.1356, -0.1006, -0.1427, -0.1240, -0.1088, -0.1109, -0.1536, -0.1073,\n",
      "         -0.1033, -0.0773, -0.1060, -0.0963, -0.1387, -0.0951, -0.1131, -0.1523,\n",
      "         -0.0979, -0.1164, -0.1343, -0.1188, -0.1811, -0.1617, -0.1500, -0.1610,\n",
      "         -0.1366, -0.0979, -0.1310, -0.1461, -0.1112, -0.1175, -0.1281, -0.0673,\n",
      "         -0.1468, -0.0996, -0.1335, -0.1255, -0.1189, -0.1344, -0.1566, -0.1333,\n",
      "         -0.1354, -0.1039, -0.1667, -0.0964, -0.1361, -0.1316, -0.1161, -0.1057]])}, 'VNet.scale_3': {tensor([[ 1.0916e-01, -4.1077e-05,  6.9975e-02,  1.4437e-01,  8.5828e-02,\n",
      "          1.3870e-01,  3.1506e-02,  6.2726e-02,  1.8216e-01,  2.0827e-01,\n",
      "          6.5326e-02,  3.3532e-02,  1.7425e-01,  2.1242e-01,  1.5322e-01,\n",
      "          2.0653e-01,  1.3451e-01,  1.9061e-01,  1.4127e-01,  9.3228e-02,\n",
      "          2.3390e-01,  1.2096e-01,  2.0001e-01,  4.4315e-02,  1.9137e-01,\n",
      "         -2.9039e-02,  1.2734e-01,  1.5569e-01,  6.2764e-02,  1.7402e-01,\n",
      "          1.6049e-01,  1.7382e-01,  7.6600e-02,  1.3849e-01,  7.9896e-02,\n",
      "          1.1467e-01,  2.0113e-01,  8.9195e-02,  1.5095e-01,  2.0675e-01,\n",
      "          1.1260e-01,  2.0015e-01,  1.1264e-01,  1.6299e-01,  3.9489e-03,\n",
      "          6.1492e-02,  7.6453e-02,  1.6256e-01,  1.0106e-01,  1.9382e-01,\n",
      "          2.1593e-02,  1.8937e-01,  1.4356e-01,  1.0876e-01,  8.0107e-02,\n",
      "          1.6476e-01,  1.3494e-01,  1.0377e-01,  4.3807e-02,  1.5984e-01,\n",
      "          1.6984e-01,  8.2173e-02,  1.8877e-01,  1.4378e-01]])}, 'VNet.fc_zip_1.weight': {tensor([[ 0.0923, -0.0702,  0.2608,  ..., -0.1440, -0.1141, -0.1020],\n",
      "        [ 0.0848,  0.1050,  0.2773,  ...,  0.0506,  0.0109,  0.2943],\n",
      "        [-0.0092,  0.0390,  0.2409,  ..., -0.0874,  0.0716, -0.0500],\n",
      "        ...,\n",
      "        [ 0.1359, -0.2873,  0.2731,  ...,  0.1026, -0.1847,  0.0892],\n",
      "        [ 0.1037,  0.2181,  0.1444,  ..., -0.1974,  0.0457, -0.1208],\n",
      "        [ 0.0339, -0.2024, -0.1543,  ..., -0.1793,  0.0878,  0.0646]])}, 'VNet.fc_zip_1.bias': {tensor([-0.1039,  0.0186, -0.1066, -0.0787, -0.0353, -0.0986, -0.0509, -0.0579,\n",
      "        -0.0044, -0.1545,  0.1255, -0.0381, -0.0126, -0.0946, -0.0490,  0.0296,\n",
      "        -0.0457, -0.0403, -0.0385, -0.0687, -0.0759,  0.0736, -0.0620, -0.0662,\n",
      "         0.0769, -0.0617,  0.0180,  0.0154, -0.0688, -0.0110,  0.0452,  0.0435,\n",
      "        -0.0266, -0.0913,  0.0222,  0.0586, -0.0600, -0.0487, -0.0334,  0.0901,\n",
      "        -0.0668,  0.0342, -0.0791,  0.0039, -0.0297, -0.0448, -0.1637, -0.0666,\n",
      "         0.0203,  0.0245, -0.0186, -0.0014, -0.0946, -0.0811, -0.0746,  0.0455,\n",
      "        -0.0952, -0.0568, -0.1166,  0.0106, -0.0093, -0.0296, -0.0451, -0.0484])}, 'VNet.fc_zip_2.weight': {tensor([[-0.0738,  0.0559,  0.1722,  ...,  0.0938, -0.1567, -0.0430],\n",
      "        [-0.3004,  0.1699, -0.2463,  ..., -0.2605, -0.1276, -0.1881],\n",
      "        [-0.1517, -0.0997,  0.2631,  ..., -0.0520,  0.1256, -0.3389],\n",
      "        ...,\n",
      "        [ 0.0198, -0.0631, -0.0334,  ..., -0.0089,  0.2951, -0.1186],\n",
      "        [ 0.0608,  0.0669, -0.2214,  ..., -0.1790, -0.0152, -0.1483],\n",
      "        [-0.1380,  0.2212,  0.0287,  ...,  0.1044, -0.0399, -0.0844]])}, 'VNet.fc_zip_2.bias': {tensor([-0.1039,  0.0186, -0.1066, -0.0787, -0.0353, -0.0986, -0.0509, -0.0579,\n",
      "        -0.0044, -0.1545,  0.1255, -0.0381, -0.0126, -0.0946, -0.0490,  0.0296,\n",
      "        -0.0457, -0.0403, -0.0385, -0.0687, -0.0759,  0.0736, -0.0620, -0.0662,\n",
      "         0.0769, -0.0617,  0.0180,  0.0154, -0.0688, -0.0110,  0.0452,  0.0435,\n",
      "        -0.0266, -0.0913,  0.0222,  0.0586, -0.0600, -0.0487, -0.0334,  0.0901,\n",
      "        -0.0668,  0.0342, -0.0791,  0.0039, -0.0297, -0.0448, -0.1637, -0.0666,\n",
      "         0.0203,  0.0245, -0.0186, -0.0014, -0.0946, -0.0811, -0.0746,  0.0455,\n",
      "        -0.0952, -0.0568, -0.1166,  0.0106, -0.0093, -0.0296, -0.0451, -0.0484])}, 'VNet.fc_zip_3.weight': {tensor([[ 0.8951, -0.0259],\n",
      "        [ 0.4407, -0.5354],\n",
      "        [ 1.0089,  0.7937],\n",
      "        [ 0.1480,  1.0850],\n",
      "        [-0.5646, -0.4156],\n",
      "        [ 0.4289,  0.0345],\n",
      "        [ 0.5500,  0.6855],\n",
      "        [ 0.5351,  0.7935],\n",
      "        [-0.0308,  0.4731],\n",
      "        [-0.1322, -0.1831],\n",
      "        [ 0.3939,  0.0405],\n",
      "        [ 0.8725, -0.9692],\n",
      "        [-0.0171,  1.3818],\n",
      "        [ 0.2858, -1.3086],\n",
      "        [-1.0548, -0.0327],\n",
      "        [-0.5165,  0.3195],\n",
      "        [-1.3954,  0.0460],\n",
      "        [ 1.6666,  0.4419],\n",
      "        [-0.0829, -0.0780],\n",
      "        [ 1.1319, -0.5422],\n",
      "        [ 1.8992,  1.4223],\n",
      "        [-0.1463, -0.2946],\n",
      "        [-0.2060,  0.8227],\n",
      "        [-0.9169, -0.1665],\n",
      "        [-2.2460, -0.2748],\n",
      "        [ 1.1195, -0.5552],\n",
      "        [ 0.7729,  0.7642],\n",
      "        [ 0.3784,  0.9528],\n",
      "        [-0.4933, -1.2984],\n",
      "        [-0.4225, -1.3423],\n",
      "        [-0.3168, -0.5820],\n",
      "        [-1.4830,  0.5467],\n",
      "        [ 0.7194,  2.1284],\n",
      "        [ 0.5191,  0.6378],\n",
      "        [ 0.0076,  1.0368],\n",
      "        [ 1.6503, -0.3741],\n",
      "        [-0.3244,  0.6168],\n",
      "        [-1.0872,  0.1622],\n",
      "        [ 0.1203, -0.8795],\n",
      "        [-0.1655,  0.0779],\n",
      "        [ 0.6288,  1.0367],\n",
      "        [ 1.3112,  0.4729],\n",
      "        [-0.1184, -0.5963],\n",
      "        [-0.7532,  0.5641],\n",
      "        [-0.7466,  0.9581],\n",
      "        [-1.4292,  0.8515],\n",
      "        [-0.3275,  0.1777],\n",
      "        [ 1.2594, -0.9913],\n",
      "        [ 0.5491,  0.8191],\n",
      "        [ 1.3840, -0.7430],\n",
      "        [-1.0381, -0.8788],\n",
      "        [-0.3184, -0.9399],\n",
      "        [-1.0400, -2.0780],\n",
      "        [ 0.0487,  0.6640],\n",
      "        [-0.7183, -0.1117],\n",
      "        [-0.5363,  0.3236],\n",
      "        [ 0.2726,  0.6034],\n",
      "        [-0.8466, -0.2291],\n",
      "        [-1.3929, -0.6666],\n",
      "        [-0.7950, -0.4011],\n",
      "        [ 1.1830, -0.7124],\n",
      "        [-1.9125, -1.4874],\n",
      "        [ 0.5154,  0.1418],\n",
      "        [ 0.3933,  0.0994]])}, 'VNet.fc_zip_3.bias': {tensor([-0.1039,  0.0186, -0.1066, -0.0787, -0.0353, -0.0986, -0.0509, -0.0579,\n",
      "        -0.0044, -0.1545,  0.1255, -0.0381, -0.0126, -0.0946, -0.0490,  0.0296,\n",
      "        -0.0457, -0.0403, -0.0385, -0.0687, -0.0759,  0.0736, -0.0620, -0.0662,\n",
      "         0.0769, -0.0617,  0.0180,  0.0154, -0.0688, -0.0110,  0.0452,  0.0435,\n",
      "        -0.0266, -0.0913,  0.0222,  0.0586, -0.0600, -0.0487, -0.0334,  0.0901,\n",
      "        -0.0668,  0.0342, -0.0791,  0.0039, -0.0297, -0.0448, -0.1637, -0.0666,\n",
      "         0.0203,  0.0245, -0.0186, -0.0014, -0.0946, -0.0811, -0.0746,  0.0455,\n",
      "        -0.0952, -0.0568, -0.1166,  0.0106, -0.0093, -0.0296, -0.0451, -0.0484])}, 'VNet.linear.weight': {tensor([[ 0.0816, -0.0383,  0.1013,  ...,  0.0076,  0.3176,  0.0281],\n",
      "        [ 0.0466,  0.0177, -0.1722,  ..., -0.0853,  0.2574, -0.0186],\n",
      "        [ 0.0723,  0.0348,  0.1871,  ..., -0.0439, -0.3117,  0.1160],\n",
      "        ...,\n",
      "        [ 0.1085, -0.1831,  0.1657,  ...,  0.0477, -0.1653,  0.0124],\n",
      "        [ 0.0564, -0.1812,  0.1389,  ...,  0.0475, -0.0437, -0.0109],\n",
      "        [ 0.2049,  0.0468,  0.1586,  ..., -0.0189,  0.0548, -0.0811]])}, 'VNet.linear.bias': {tensor([-0.0280, -0.0113, -0.0247, -0.0610, -0.1045, -0.0564, -0.0550, -0.0054,\n",
      "        -0.0864, -0.0331, -0.0624, -0.0021, -0.0761, -0.0431, -0.0244, -0.0142,\n",
      "        -0.0390,  0.0046, -0.0556, -0.0846, -0.0539, -0.0509, -0.0465, -0.0813,\n",
      "        -0.0805, -0.0241, -0.0614, -0.0701, -0.1019, -0.0636, -0.0331, -0.1006,\n",
      "        -0.0637, -0.1089, -0.0418, -0.0563, -0.0439, -0.0499, -0.0463, -0.0022,\n",
      "        -0.0362, -0.0500, -0.0628, -0.0383, -0.0455, -0.0721, -0.0387, -0.0446,\n",
      "        -0.0309, -0.0499, -0.0562, -0.0473, -0.0430, -0.0679, -0.0550, -0.0427,\n",
      "        -0.0297,  0.0380, -0.1023, -0.0683, -0.0531, -0.0777, -0.0640, -0.0291])}, 'VNet.fc_par_1.weight': {tensor([[ 0.1115, -0.0556,  0.1518,  ..., -0.0239, -0.0270,  0.0221],\n",
      "        [-0.0986, -0.1198,  0.0332,  ...,  0.0017,  0.0340, -0.2462],\n",
      "        [ 0.0139,  0.0200,  0.0548,  ...,  0.0327,  0.1236,  0.1316],\n",
      "        ...,\n",
      "        [-0.0878, -0.0324,  0.0266,  ..., -0.0151, -0.0156, -0.1007],\n",
      "        [ 0.1952, -0.0870,  0.0261,  ...,  0.2398,  0.0872,  0.0278],\n",
      "        [ 0.1990, -0.0127, -0.1151,  ..., -0.1130, -0.2733,  0.0188]])}, 'VNet.fc_par_1.bias': {tensor([-0.0323,  0.0242, -0.0008, -0.0100, -0.0292, -0.0063,  0.0095, -0.0151,\n",
      "         0.0122, -0.0155,  0.0292,  0.0204,  0.0932, -0.0361, -0.0360, -0.0392,\n",
      "         0.0306, -0.0837,  0.0351,  0.0391,  0.0936,  0.0148, -0.0158,  0.0088,\n",
      "         0.0304,  0.0049,  0.0450,  0.0035,  0.0113, -0.0306,  0.0067, -0.0176,\n",
      "        -0.0111,  0.0041,  0.0940, -0.1219,  0.0600,  0.0477, -0.0486, -0.0058,\n",
      "         0.0781,  0.0134,  0.0342, -0.0224,  0.0788, -0.0115,  0.0460, -0.0864,\n",
      "         0.0901,  0.0138, -0.0021,  0.0794, -0.0967,  0.0051,  0.0252, -0.0093,\n",
      "         0.0738, -0.0119,  0.0510,  0.0101,  0.0674, -0.0601,  0.0220, -0.0427])}, 'VNet.fc_par_2.weight': {tensor([[-0.1182, -0.0152,  0.1423,  ...,  0.2279,  0.1293,  0.0759],\n",
      "        [ 0.1671, -0.1217,  0.0947,  ..., -0.1158,  0.0599, -0.2833],\n",
      "        [ 0.1613, -0.1726, -0.3865,  ..., -0.1516,  0.1855,  0.2671],\n",
      "        ...,\n",
      "        [ 0.0596,  0.1078,  0.1423,  ..., -0.3411, -0.0210,  0.2374],\n",
      "        [-0.2385, -0.1036, -0.0129,  ..., -0.0641,  0.0631, -0.3341],\n",
      "        [-0.0310, -0.1507,  0.1827,  ..., -0.1080, -0.0091, -0.2102]])}, 'VNet.fc_par_2.bias': {tensor([-0.0243, -0.0479, -0.0109, -0.0150,  0.0475,  0.0253,  0.0102,  0.0149,\n",
      "        -0.0014, -0.0265, -0.0071,  0.0089,  0.0146, -0.0023, -0.0755,  0.0890,\n",
      "        -0.0234,  0.0920,  0.0028,  0.0771,  0.0020, -0.0052, -0.0078, -0.0755,\n",
      "        -0.0092,  0.0547,  0.0321,  0.0465, -0.0113, -0.0653,  0.0477, -0.0758,\n",
      "         0.0693,  0.0292, -0.0141,  0.0279,  0.0098,  0.0647, -0.0817, -0.0352,\n",
      "        -0.0299,  0.0195, -0.0048, -0.0062, -0.0441,  0.0908,  0.0036,  0.0565,\n",
      "        -0.1024,  0.0473, -0.0425,  0.0934,  0.0069,  0.0582, -0.0806, -0.0037,\n",
      "         0.0489,  0.0195, -0.1048,  0.0290, -0.0925,  0.0320, -0.0563,  0.0580])}, 'VNet.fc_par_3.weight': {tensor([[-0.1130, -0.2191, -0.0376,  ..., -0.2114, -0.3158, -0.1061],\n",
      "        [-0.1928,  0.2119, -0.4138,  ..., -0.2108, -0.1716, -0.0671],\n",
      "        [-0.0289, -0.0791, -0.2699,  ...,  0.0307, -0.1209, -0.0918],\n",
      "        ...,\n",
      "        [-0.0411, -0.1697,  0.0122,  ...,  0.0146,  0.1610, -0.1297],\n",
      "        [-0.2142, -0.1975,  0.0899,  ...,  0.1607,  0.0054,  0.1586],\n",
      "        [-0.1687, -0.0852,  0.2425,  ...,  0.0131, -0.2951,  0.0544]])}, 'VNet.fc_par_3.bias': {tensor([-0.1641, -0.1898, -0.1917, -0.1708, -0.1973, -0.1755, -0.1935, -0.1681,\n",
      "        -0.1837, -0.1414, -0.1452, -0.1820, -0.1916, -0.2019, -0.1977, -0.1715,\n",
      "        -0.1547, -0.1390, -0.1922, -0.2205, -0.1950, -0.1753, -0.1466, -0.2082,\n",
      "        -0.1376, -0.1736, -0.1613, -0.1355, -0.1162, -0.1499, -0.1206, -0.1746,\n",
      "        -0.1688, -0.1544, -0.2077, -0.1964, -0.1324, -0.2217, -0.2305, -0.1769,\n",
      "        -0.1365, -0.1119, -0.1295, -0.1679, -0.1387, -0.2093, -0.1364, -0.1488,\n",
      "        -0.1657, -0.1733, -0.1376, -0.1604, -0.1355, -0.1875, -0.1054, -0.1197,\n",
      "        -0.2086, -0.1761, -0.1922, -0.1764, -0.1197, -0.2052, -0.1109, -0.1654])}}\n"
     ]
    }
   ],
   "source": [
    "trained_params = {}\n",
    "for name,param in dynamics.named_parameters():\n",
    "    trained_params[name] = {param.detach()}\n",
    "alpha = trained_params['alpha']\n",
    "final_eps = np.exp(list(alpha))\n",
    "# print(final_eps,alpha)\n",
    "print(trained_params)\n",
    "# np.save(f\"trained_paramsU{U}B{beta}Nt{Nt}_{count}.npy\",trained_params)"
   ]
  },
  {
   "cell_type": "code",
   "execution_count": 105,
   "metadata": {},
   "outputs": [
    {
     "data": {
      "text/plain": [
       "(tensor(0.1000), 0.77791494, -19.203365325927734, 624)"
      ]
     },
     "execution_count": 105,
     "metadata": {},
     "output_type": "execute_result"
    }
   ],
   "source": [
    "scale,mean_px,loss.item(),epochs"
   ]
  },
  {
   "cell_type": "markdown",
   "metadata": {},
   "source": [
    "## Loss Plot"
   ]
  },
  {
   "cell_type": "code",
   "execution_count": 108,
   "metadata": {},
   "outputs": [
    {
     "data": {
      "image/png": "[encoded data removed]",
      "text/plain": [
       "<Figure size 432x288 with 1 Axes>"
      ]
     },
     "metadata": {
      "needs_background": "light"
     },
     "output_type": "display_data"
    }
   ],
   "source": [
    "plt.title(\"Loss Plot\")\n",
    "plt.xlabel(\"epoch\")\n",
    "plt.ylabel(\"loss\")\n",
    "plt.plot(np.arange(len(loss_plot)),loss_plot)\n",
    "plt.savefig(\"Loss_U{}B{}Nt{}_{}.png\".format(U,beta,Nt,count))"
   ]
  },
  {
   "cell_type": "markdown",
   "metadata": {},
   "source": [
    "# Running L2HMC after training"
   ]
  },
  {
   "cell_type": "code",
   "execution_count": 125,
   "metadata": {},
   "outputs": [
    {
     "name": "stdout",
     "output_type": "stream",
     "text": [
      "Starting positions for L2HMC= torch.Size([200, 64])\n"
     ]
    },
    {
     "data": {
      "application/vnd.jupyter.widget-view+json": {
       "model_id": "b2cd7744fc7b4f84be8bad74622c1766",
       "version_major": 2,
       "version_minor": 0
      },
      "text/plain": [
       "  0%|          | 0/1 [00:00<?, ?it/s]"
      ]
     },
     "metadata": {},
     "output_type": "display_data"
    }
   ],
   "source": [
    "n_samples = 200\n",
    "nTrajs = 1\n",
    "\n",
    "# samples_ = torch.tensor(HMCNotebook[n_samples], dtype=torch.float32)\n",
    "# samples_ = torch.tensor(HMC_samples_reduced[:n_samples],dtype=torch.float32)\n",
    "samples_ = torch.normal(0.0,usqrt,size=(n_samples,x_dim))\n",
    "print(\"Starting positions for L2HMC=\",samples_.shape)\n",
    "L2HMC_acceptance = []\n",
    "final_samples = []\n",
    "L2HMC_px = []\n",
    "# final_samples.append(samples_.detach().numpy())\n",
    "with torch.no_grad():\n",
    "    for t in tqdm(range(nTrajs)):       \n",
    "        Lxx,Lvv,prob_x,samples_,log_jac,directions = propose(samples_, n_samples, dynamics, do_mh_step=True)\n",
    "        samples_ = samples_[0]  # to get correct shape\n",
    "        L2HMC_px.append(prob_x.detach().numpy())\n",
    "        L2HMC_acceptance.append(directions.detach().numpy())\n",
    "        final_samples.append(samples_.detach().numpy())\n",
    "        \n"
   ]
  },
  {
   "cell_type": "code",
   "execution_count": 126,
   "metadata": {},
   "outputs": [
    {
     "name": "stdout",
     "output_type": "stream",
     "text": [
      "L2HMC samples mean px= 0.3023233\n",
      "L2HMC_samples shape = (1, 200, 64)\n",
      "L2HMC acceptance prob= 0.3\n",
      "L2HMC_samples reshape = (200, 64)\n"
     ]
    }
   ],
   "source": [
    "L2HMC_samples = np.array(final_samples)\n",
    "L2HMC_px = np.array(L2HMC_px).flatten()\n",
    "L2HMC_acceptance = np.array(L2HMC_acceptance).flatten()\n",
    "L2HMC_samples_reduced = L2HMC_samples.reshape(200,x_dim)\n",
    "\n",
    "print(\"L2HMC samples mean px=\",np.mean(L2HMC_px))\n",
    "print(\"L2HMC_samples shape =\",L2HMC_samples.shape)\n",
    "print(\"L2HMC acceptance prob=\",sum(L2HMC_acceptance)/len(L2HMC_acceptance))\n",
    "print(\"L2HMC_samples reshape =\",L2HMC_samples_reduced.shape)"
   ]
  },
  {
   "cell_type": "code",
   "execution_count": 99,
   "metadata": {},
   "outputs": [
    {
     "data": {
      "text/plain": [
       "array([[-0.3317126 ,  0.31573236,  0.23442324, ...,  0.1014179 ,\n",
       "        -0.66014713,  0.16417435],\n",
       "       [ 0.04957017, -0.6813915 ,  0.4259388 , ...,  0.5363573 ,\n",
       "         0.09028851, -0.09633   ],\n",
       "       [-0.4979974 , -0.9675326 , -0.93292665, ...,  0.6626811 ,\n",
       "         2.0525823 ,  1.0735915 ],\n",
       "       ...,\n",
       "       [-0.2525708 ,  0.4058452 , -1.8922164 , ..., -0.2764022 ,\n",
       "         1.1209738 ,  1.6980978 ],\n",
       "       [ 1.1282675 ,  0.80402523, -0.876227  , ...,  0.40752944,\n",
       "         0.24293385,  1.1249809 ],\n",
       "       [ 0.24535523, -0.25644886, -0.28440717, ...,  0.7551417 ,\n",
       "         1.0618546 ,  0.6348239 ]], dtype=float32)"
      ]
     },
     "execution_count": 99,
     "metadata": {},
     "output_type": "execute_result"
    }
   ],
   "source": [
    "L2HMC_samples_reduced"
   ]
  },
  {
   "cell_type": "code",
   "execution_count": 113,
   "metadata": {},
   "outputs": [
    {
     "name": "stdout",
     "output_type": "stream",
     "text": [
      "phi sqaured shape= (10000, 64)\n"
     ]
    }
   ],
   "source": [
    "phisq =np.square(L2HMC_samples_reduced)\n",
    "print(\"phi sqaured shape=\",phisq.shape)\n",
    "phisq_mean = np.mean(phisq,axis=1)"
   ]
  },
  {
   "cell_type": "code",
   "execution_count": 73,
   "metadata": {},
   "outputs": [
    {
     "name": "stdout",
     "output_type": "stream",
     "text": [
      "alpha Parameter containing:\n",
      "tensor(-4.6052)\n",
      "XNet.scale_1 Parameter containing:\n",
      "tensor([[-0.0716, -0.0961, -0.0729, -0.0934, -0.0894, -0.0420, -0.0646, -0.0983,\n",
      "         -0.0431, -0.0823, -0.0701, -0.0974, -0.0641, -0.0976, -0.1170, -0.0389,\n",
      "         -0.0651, -0.0725, -0.1082, -0.1090, -0.1025, -0.0596, -0.0577, -0.1213,\n",
      "         -0.0786, -0.0708, -0.0599, -0.0645, -0.0881, -0.1049, -0.0635, -0.0976,\n",
      "         -0.0820, -0.0980, -0.0731, -0.0940, -0.0822, -0.0525, -0.1166, -0.0981,\n",
      "         -0.0541, -0.0834, -0.0921, -0.0959, -0.0835, -0.0741, -0.0679, -0.1008,\n",
      "         -0.0528, -0.0805, -0.1132, -0.0744, -0.0487, -0.0696, -0.0855, -0.0984,\n",
      "         -0.0758, -0.0381, -0.0536, -0.1058, -0.0814, -0.0756, -0.0433, -0.0446]],\n",
      "       requires_grad=True)\n",
      "XNet.scale_3 Parameter containing:\n",
      "tensor([[ 0.1829,  0.2179,  0.2101,  0.1905,  0.1826,  0.2013,  0.1587,  0.1924,\n",
      "          0.1826,  0.1511,  0.1062,  0.1629,  0.2036,  0.1638,  0.1821,  0.1864,\n",
      "          0.1876,  0.2315,  0.1208,  0.1911,  0.2312,  0.1890,  0.1664,  0.1532,\n",
      "          0.1237,  0.1399,  0.1662,  0.1246,  0.1900,  0.1711,  0.1900,  0.2401,\n",
      "          0.1633,  0.1546,  0.1384,  0.1606,  0.2187,  0.2018,  0.2148,  0.1902,\n",
      "          0.0412,  0.1500,  0.1259,  0.1472,  0.0046,  0.1066,  0.1908,  0.1962,\n",
      "          0.1874,  0.1820,  0.1583,  0.0964,  0.2211,  0.1410,  0.1325,  0.1449,\n",
      "          0.1023,  0.1843, -0.0254,  0.2005,  0.1813,  0.1394,  0.1818,  0.1909]],\n",
      "       requires_grad=True)\n",
      "XNet.fc_zip_1.weight Parameter containing:\n",
      "tensor([[ 0.0544, -0.1295,  0.0535,  ..., -0.0854,  0.0604, -0.1711],\n",
      "        [-0.2189, -0.1089, -0.1634,  ...,  0.1642,  0.2216,  0.0637],\n",
      "        [ 0.1998,  0.2107,  0.0152,  ..., -0.1340, -0.0256,  0.0567],\n",
      "        ...,\n",
      "        [ 0.1331, -0.2404, -0.0258,  ..., -0.0454,  0.0668,  0.1707],\n",
      "        [ 0.0201, -0.0188, -0.1167,  ..., -0.1193,  0.0705, -0.3969],\n",
      "        [-0.0640, -0.0232, -0.0259,  ..., -0.2321,  0.0342, -0.2147]],\n",
      "       requires_grad=True)\n",
      "XNet.fc_zip_1.bias Parameter containing:\n",
      "tensor([ 0.0520,  0.0373,  0.0412,  0.0389, -0.0016,  0.0238,  0.0403,  0.0251,\n",
      "         0.0189,  0.0272,  0.0497,  0.0115,  0.0470,  0.0259,  0.0451,  0.0070,\n",
      "         0.0391,  0.0593, -0.0348,  0.0091, -0.0070,  0.0468,  0.0242,  0.0286,\n",
      "         0.0041,  0.0253,  0.0213, -0.0462,  0.0441,  0.0116,  0.0263, -0.0516,\n",
      "         0.0245,  0.0238, -0.0198, -0.0225,  0.0600,  0.0385,  0.0628,  0.0286,\n",
      "         0.0005,  0.0128,  0.0279,  0.0476,  0.0249,  0.0283,  0.0369, -0.0396,\n",
      "         0.0286,  0.0314, -0.0186, -0.0615,  0.0263,  0.0300,  0.0310,  0.0435,\n",
      "         0.0277,  0.0520,  0.0128, -0.0055,  0.0537,  0.0311,  0.0591, -0.0548],\n",
      "       requires_grad=True)\n",
      "XNet.fc_zip_2.weight Parameter containing:\n",
      "tensor([[ 0.0834, -0.0825, -0.1390,  ...,  0.1452, -0.0462, -0.0895],\n",
      "        [-0.0034,  0.1183, -0.0127,  ...,  0.0526, -0.0877, -0.0177],\n",
      "        [ 0.1325,  0.0960, -0.0085,  ...,  0.0022, -0.0234,  0.0104],\n",
      "        ...,\n",
      "        [-0.0405,  0.0151, -0.0182,  ..., -0.1618, -0.0913,  0.1099],\n",
      "        [-0.0661,  0.0249, -0.1307,  ..., -0.0326,  0.0800, -0.0597],\n",
      "        [-0.0440,  0.0683, -0.0982,  ..., -0.1703,  0.0675,  0.0190]],\n",
      "       requires_grad=True)\n",
      "XNet.fc_zip_2.bias Parameter containing:\n",
      "tensor([ 0.0520,  0.0373,  0.0412,  0.0389, -0.0016,  0.0238,  0.0403,  0.0251,\n",
      "         0.0189,  0.0272,  0.0497,  0.0115,  0.0470,  0.0259,  0.0451,  0.0070,\n",
      "         0.0391,  0.0593, -0.0348,  0.0091, -0.0070,  0.0468,  0.0242,  0.0286,\n",
      "         0.0041,  0.0253,  0.0213, -0.0462,  0.0441,  0.0116,  0.0263, -0.0516,\n",
      "         0.0245,  0.0238, -0.0198, -0.0225,  0.0600,  0.0385,  0.0628,  0.0286,\n",
      "         0.0005,  0.0128,  0.0279,  0.0476,  0.0249,  0.0283,  0.0369, -0.0396,\n",
      "         0.0286,  0.0314, -0.0186, -0.0615,  0.0263,  0.0300,  0.0310,  0.0435,\n",
      "         0.0277,  0.0520,  0.0128, -0.0055,  0.0537,  0.0311,  0.0591, -0.0548],\n",
      "       requires_grad=True)\n",
      "XNet.fc_zip_3.weight Parameter containing:\n",
      "tensor([[-1.0122e+00,  6.0042e-02],\n",
      "        [ 5.9762e-01, -2.4590e-01],\n",
      "        [ 1.4483e+00,  4.6484e-01],\n",
      "        [-7.6786e-01, -1.3223e+00],\n",
      "        [-3.4860e-01, -8.0261e-01],\n",
      "        [ 1.6528e+00, -1.5245e-01],\n",
      "        [-1.0520e+00, -1.4920e+00],\n",
      "        [-4.8219e-01,  3.3852e-01],\n",
      "        [-8.6105e-02,  1.2621e+00],\n",
      "        [-5.6796e-01,  6.7416e-01],\n",
      "        [ 1.1626e+00, -9.3805e-01],\n",
      "        [ 4.2334e-01,  3.1992e-01],\n",
      "        [ 1.4808e+00,  1.8186e+00],\n",
      "        [-6.7810e-01,  1.1769e+00],\n",
      "        [-8.2014e-01,  1.5100e-02],\n",
      "        [ 4.1345e-01,  3.4423e-02],\n",
      "        [ 1.1568e+00, -2.9031e-01],\n",
      "        [ 3.5180e-01, -4.4358e-01],\n",
      "        [-3.3535e-01,  8.0293e-02],\n",
      "        [ 1.7065e+00,  2.9081e-01],\n",
      "        [-1.3112e-03,  6.4958e-02],\n",
      "        [-3.5141e-01,  1.0714e-01],\n",
      "        [ 1.5823e+00,  2.4085e-01],\n",
      "        [ 1.6209e-02, -5.7644e-01],\n",
      "        [ 1.7791e-01, -1.2331e+00],\n",
      "        [-2.7018e-02, -4.1382e-01],\n",
      "        [-1.6573e-01,  2.6110e-01],\n",
      "        [ 6.8148e-01, -1.1377e-01],\n",
      "        [-2.7989e-02, -1.4233e+00],\n",
      "        [-5.6840e-01,  1.1208e-01],\n",
      "        [-7.6368e-01,  4.7253e-01],\n",
      "        [ 3.0512e-01, -1.7678e-02],\n",
      "        [ 3.0405e-01, -2.2743e-01],\n",
      "        [ 7.0038e-02, -2.7460e-01],\n",
      "        [ 4.4756e-02,  2.7987e-01],\n",
      "        [ 2.2649e-01, -1.2644e+00],\n",
      "        [ 1.1625e+00, -1.1916e+00],\n",
      "        [-2.6266e+00,  1.1833e+00],\n",
      "        [ 1.9899e+00,  6.2503e-01],\n",
      "        [ 3.2197e-01,  1.8022e-01],\n",
      "        [ 1.0994e-01,  6.6753e-01],\n",
      "        [-6.1901e-02, -7.8565e-01],\n",
      "        [-1.8082e+00, -1.5432e-02],\n",
      "        [-4.8306e-01, -9.1491e-02],\n",
      "        [ 5.7326e-01, -1.9753e-01],\n",
      "        [-6.2322e-01,  6.1799e-01],\n",
      "        [-3.4196e-02,  5.7182e-01],\n",
      "        [-9.9992e-01,  1.7190e-01],\n",
      "        [ 6.3599e-01, -1.1841e+00],\n",
      "        [ 1.2955e+00,  7.1700e-01],\n",
      "        [-5.5814e-01,  8.9421e-01],\n",
      "        [ 4.5094e-01, -3.0686e-01],\n",
      "        [ 3.9872e-01,  6.5517e-01],\n",
      "        [-1.8152e+00,  5.6537e-01],\n",
      "        [ 7.0585e-01,  1.7078e+00],\n",
      "        [-8.4338e-01, -1.5131e+00],\n",
      "        [-9.1455e-01, -5.7122e-01],\n",
      "        [ 2.1742e-01, -7.5803e-01],\n",
      "        [ 3.2616e-01, -3.7777e-01],\n",
      "        [-1.0822e+00, -2.2342e-01],\n",
      "        [-1.0881e+00,  2.0069e-01],\n",
      "        [ 2.8434e-01,  4.4466e-01],\n",
      "        [-1.7532e+00, -5.9784e-01],\n",
      "        [-1.1658e-01,  5.0924e-01]], requires_grad=True)\n",
      "XNet.fc_zip_3.bias Parameter containing:\n",
      "tensor([ 0.0520,  0.0373,  0.0412,  0.0389, -0.0016,  0.0238,  0.0403,  0.0251,\n",
      "         0.0189,  0.0272,  0.0497,  0.0115,  0.0470,  0.0259,  0.0451,  0.0070,\n",
      "         0.0391,  0.0593, -0.0348,  0.0091, -0.0070,  0.0468,  0.0242,  0.0286,\n",
      "         0.0041,  0.0253,  0.0213, -0.0462,  0.0441,  0.0116,  0.0263, -0.0516,\n",
      "         0.0245,  0.0238, -0.0198, -0.0225,  0.0600,  0.0385,  0.0628,  0.0286,\n",
      "         0.0005,  0.0128,  0.0279,  0.0476,  0.0249,  0.0283,  0.0369, -0.0396,\n",
      "         0.0286,  0.0314, -0.0186, -0.0615,  0.0263,  0.0300,  0.0310,  0.0435,\n",
      "         0.0277,  0.0520,  0.0128, -0.0055,  0.0537,  0.0311,  0.0591, -0.0548],\n",
      "       requires_grad=True)\n",
      "XNet.linear.weight Parameter containing:\n",
      "tensor([[-0.1635, -0.0811, -0.1926,  ..., -0.0546,  0.1268, -0.0431],\n",
      "        [ 0.2549,  0.0424, -0.0240,  ..., -0.0448,  0.1841, -0.0137],\n",
      "        [-0.1877,  0.0465,  0.0840,  ..., -0.3047, -0.0009,  0.0018],\n",
      "        ...,\n",
      "        [ 0.0863,  0.0444,  0.1694,  ..., -0.0328,  0.0310, -0.1440],\n",
      "        [-0.0810, -0.0991, -0.1437,  ...,  0.0103, -0.0012,  0.3693],\n",
      "        [-0.1111, -0.1228,  0.1351,  ..., -0.1327, -0.0886, -0.0709]],\n",
      "       requires_grad=True)\n",
      "XNet.linear.bias Parameter containing:\n",
      "tensor([ 0.0364,  0.0358, -0.0015,  0.0177,  0.0600,  0.0756,  0.0293,  0.0178,\n",
      "        -0.0133,  0.0280,  0.0201,  0.0495,  0.0343,  0.0372,  0.0497,  0.0256,\n",
      "         0.0412,  0.0309,  0.0115,  0.0538,  0.0351,  0.0407,  0.0465,  0.0005,\n",
      "         0.0048,  0.0410, -0.0333,  0.0493, -0.0052,  0.0760,  0.0284,  0.0120,\n",
      "         0.0450, -0.0221,  0.0382,  0.0078,  0.0695,  0.0290,  0.0661,  0.0550,\n",
      "         0.0544,  0.0678,  0.0259,  0.0353,  0.0256,  0.0483,  0.0485,  0.0439,\n",
      "        -0.0020, -0.0016,  0.0285,  0.0099,  0.0463,  0.0320,  0.0213,  0.0276,\n",
      "         0.0099,  0.0154, -0.0435,  0.0373,  0.0353,  0.0330,  0.0456,  0.0002],\n",
      "       requires_grad=True)\n",
      "XNet.fc_par_1.weight Parameter containing:\n",
      "tensor([[-0.1280, -0.3195,  0.0421,  ..., -0.0166, -0.1903, -0.1712],\n",
      "        [-0.2425, -0.2243, -0.2936,  ..., -0.1034, -0.0941,  0.2597],\n",
      "        [-0.1946,  0.0822, -0.0092,  ...,  0.1297, -0.4507, -0.0535],\n",
      "        ...,\n",
      "        [ 0.0870,  0.1193, -0.1891,  ...,  0.0988, -0.3223,  0.1347],\n",
      "        [-0.0330, -0.0542, -0.0318,  ...,  0.0804, -0.1529, -0.2384],\n",
      "        [-0.1231, -0.0519,  0.1019,  ..., -0.0147,  0.0263,  0.2370]],\n",
      "       requires_grad=True)\n",
      "XNet.fc_par_1.bias Parameter containing:\n",
      "tensor([ 0.0167, -0.0142, -0.0275, -0.0086,  0.0269,  0.0449,  0.0193, -0.0548,\n",
      "         0.0684,  0.0057,  0.0408,  0.0462,  0.0331, -0.0063, -0.0012, -0.0058,\n",
      "        -0.0039, -0.0196,  0.0171,  0.0178, -0.0075,  0.0006,  0.0081, -0.0044,\n",
      "        -0.0132,  0.0477,  0.0268,  0.0119,  0.0387, -0.0153, -0.0104, -0.0511,\n",
      "         0.0042,  0.0006, -0.0011, -0.0400, -0.0124, -0.0079, -0.0662,  0.0024,\n",
      "         0.0049, -0.0240,  0.0114,  0.0380, -0.0077,  0.0324, -0.0059,  0.0088,\n",
      "         0.0385, -0.0230,  0.0311, -0.0016, -0.0285, -0.0181, -0.0288,  0.0018,\n",
      "        -0.0027,  0.0404,  0.0044,  0.0031,  0.0444,  0.0006,  0.0051, -0.0523],\n",
      "       requires_grad=True)\n",
      "XNet.fc_par_2.weight Parameter containing:\n",
      "tensor([[-0.5919,  0.1147,  0.1880,  ...,  0.0694, -0.2674, -0.0791],\n",
      "        [ 0.1552,  0.0285,  0.0837,  ...,  0.2923,  0.1249, -0.0049],\n",
      "        [ 0.2464,  0.0013,  0.2786,  ...,  0.0568,  0.1484,  0.0988],\n",
      "        ...,\n",
      "        [ 0.0748, -0.1253, -0.0394,  ..., -0.5332, -0.0601, -0.0365],\n",
      "        [-0.0100,  0.1230, -0.0594,  ...,  0.0655, -0.0667,  0.1473],\n",
      "        [-0.0813, -0.0802, -0.2130,  ...,  0.0242, -0.1460, -0.1457]],\n",
      "       requires_grad=True)\n",
      "XNet.fc_par_2.bias Parameter containing:\n",
      "tensor([-0.0381,  0.0016,  0.0454,  0.0288, -0.0047,  0.0054,  0.0456,  0.0126,\n",
      "         0.0546, -0.0033,  0.0090,  0.0345,  0.0579, -0.0456,  0.0435,  0.0430,\n",
      "        -0.0498, -0.0017, -0.0184, -0.0129,  0.0405, -0.0450, -0.0348, -0.0496,\n",
      "         0.0321, -0.0426, -0.0192,  0.0498,  0.0498,  0.0568,  0.0037, -0.0408,\n",
      "         0.0463, -0.0563, -0.0125,  0.0151, -0.0383, -0.0321,  0.0618, -0.0715,\n",
      "         0.0107,  0.0370, -0.0196, -0.0072, -0.0329,  0.0195, -0.0819, -0.0683,\n",
      "         0.0371, -0.0831,  0.0646,  0.0014, -0.0085, -0.1012, -0.0116, -0.0794,\n",
      "        -0.0314,  0.0531, -0.0817, -0.0301,  0.0528, -0.0190,  0.0394, -0.0268],\n",
      "       requires_grad=True)\n",
      "XNet.fc_par_3.weight Parameter containing:\n",
      "tensor([[ 0.2434,  0.0766,  0.0006,  ...,  0.2922, -0.0457, -0.1329],\n",
      "        [ 0.0440,  0.2438,  0.1899,  ...,  0.1182,  0.1316, -0.1638],\n",
      "        [ 0.0803,  0.0976, -0.0788,  ...,  0.0314,  0.0434, -0.1232],\n",
      "        ...,\n",
      "        [ 0.2254,  0.3343,  0.2053,  ...,  0.1992, -0.1407,  0.0275],\n",
      "        [ 0.2383,  0.0229, -0.1982,  ..., -0.0633, -0.3651,  0.0888],\n",
      "        [ 0.2138, -0.0419,  0.0703,  ..., -0.2146, -0.0433,  0.0790]],\n",
      "       requires_grad=True)\n",
      "XNet.fc_par_3.bias Parameter containing:\n",
      "tensor([0.0476, 0.0816, 0.0476, 0.0283, 0.1046, 0.0644, 0.0554, 0.0583, 0.0917,\n",
      "        0.0796, 0.1271, 0.1129, 0.0569, 0.0821, 0.0883, 0.0652, 0.0759, 0.0883,\n",
      "        0.0907, 0.0829, 0.0378, 0.0413, 0.0552, 0.0878, 0.0797, 0.1100, 0.0281,\n",
      "        0.1031, 0.0692, 0.0672, 0.0600, 0.0593, 0.0531, 0.0542, 0.0625, 0.1059,\n",
      "        0.0550, 0.0519, 0.0916, 0.0503, 0.1025, 0.1069, 0.0596, 0.0502, 0.0849,\n",
      "        0.0726, 0.0387, 0.0265, 0.0547, 0.0305, 0.0794, 0.0528, 0.0591, 0.1114,\n",
      "        0.0874, 0.0453, 0.0436, 0.0468, 0.1160, 0.0320, 0.1018, 0.1044, 0.0802,\n",
      "        0.0753], requires_grad=True)\n",
      "VNet.scale_1 Parameter containing:\n",
      "tensor([[-0.1431, -0.1194, -0.1153, -0.1347, -0.1343, -0.1297, -0.1411, -0.1512,\n",
      "         -0.1272, -0.1366, -0.1526, -0.0788, -0.1391, -0.1484, -0.1613, -0.1418,\n",
      "         -0.1356, -0.1006, -0.1427, -0.1240, -0.1088, -0.1109, -0.1536, -0.1073,\n",
      "         -0.1033, -0.0773, -0.1060, -0.0963, -0.1387, -0.0951, -0.1131, -0.1523,\n",
      "         -0.0979, -0.1164, -0.1343, -0.1188, -0.1811, -0.1617, -0.1500, -0.1610,\n",
      "         -0.1366, -0.0979, -0.1310, -0.1461, -0.1112, -0.1175, -0.1281, -0.0673,\n",
      "         -0.1468, -0.0996, -0.1335, -0.1255, -0.1189, -0.1344, -0.1566, -0.1333,\n",
      "         -0.1354, -0.1039, -0.1667, -0.0964, -0.1361, -0.1316, -0.1161, -0.1057]],\n",
      "       requires_grad=True)\n",
      "VNet.scale_3 Parameter containing:\n",
      "tensor([[ 1.0916e-01, -4.1077e-05,  6.9975e-02,  1.4437e-01,  8.5828e-02,\n",
      "          1.3870e-01,  3.1506e-02,  6.2726e-02,  1.8216e-01,  2.0827e-01,\n",
      "          6.5326e-02,  3.3532e-02,  1.7425e-01,  2.1242e-01,  1.5322e-01,\n",
      "          2.0653e-01,  1.3451e-01,  1.9061e-01,  1.4127e-01,  9.3228e-02,\n",
      "          2.3390e-01,  1.2096e-01,  2.0001e-01,  4.4315e-02,  1.9137e-01,\n",
      "         -2.9039e-02,  1.2734e-01,  1.5569e-01,  6.2764e-02,  1.7402e-01,\n",
      "          1.6049e-01,  1.7382e-01,  7.6600e-02,  1.3849e-01,  7.9896e-02,\n",
      "          1.1467e-01,  2.0113e-01,  8.9195e-02,  1.5095e-01,  2.0675e-01,\n",
      "          1.1260e-01,  2.0015e-01,  1.1264e-01,  1.6299e-01,  3.9489e-03,\n",
      "          6.1492e-02,  7.6453e-02,  1.6256e-01,  1.0106e-01,  1.9382e-01,\n",
      "          2.1593e-02,  1.8937e-01,  1.4356e-01,  1.0876e-01,  8.0107e-02,\n",
      "          1.6476e-01,  1.3494e-01,  1.0377e-01,  4.3807e-02,  1.5984e-01,\n",
      "          1.6984e-01,  8.2173e-02,  1.8877e-01,  1.4378e-01]],\n",
      "       requires_grad=True)\n",
      "VNet.fc_zip_1.weight Parameter containing:\n",
      "tensor([[ 0.0923, -0.0702,  0.2608,  ..., -0.1440, -0.1141, -0.1020],\n",
      "        [ 0.0848,  0.1050,  0.2773,  ...,  0.0506,  0.0109,  0.2943],\n",
      "        [-0.0092,  0.0390,  0.2409,  ..., -0.0874,  0.0716, -0.0500],\n",
      "        ...,\n",
      "        [ 0.1359, -0.2873,  0.2731,  ...,  0.1026, -0.1847,  0.0892],\n",
      "        [ 0.1037,  0.2181,  0.1444,  ..., -0.1974,  0.0457, -0.1208],\n",
      "        [ 0.0339, -0.2024, -0.1543,  ..., -0.1793,  0.0878,  0.0646]],\n",
      "       requires_grad=True)\n",
      "VNet.fc_zip_1.bias Parameter containing:\n",
      "tensor([-0.1039,  0.0186, -0.1066, -0.0787, -0.0353, -0.0986, -0.0509, -0.0579,\n",
      "        -0.0044, -0.1545,  0.1255, -0.0381, -0.0126, -0.0946, -0.0490,  0.0296,\n",
      "        -0.0457, -0.0403, -0.0385, -0.0687, -0.0759,  0.0736, -0.0620, -0.0662,\n",
      "         0.0769, -0.0617,  0.0180,  0.0154, -0.0688, -0.0110,  0.0452,  0.0435,\n",
      "        -0.0266, -0.0913,  0.0222,  0.0586, -0.0600, -0.0487, -0.0334,  0.0901,\n",
      "        -0.0668,  0.0342, -0.0791,  0.0039, -0.0297, -0.0448, -0.1637, -0.0666,\n",
      "         0.0203,  0.0245, -0.0186, -0.0014, -0.0946, -0.0811, -0.0746,  0.0455,\n",
      "        -0.0952, -0.0568, -0.1166,  0.0106, -0.0093, -0.0296, -0.0451, -0.0484],\n",
      "       requires_grad=True)\n",
      "VNet.fc_zip_2.weight Parameter containing:\n",
      "tensor([[-0.0738,  0.0559,  0.1722,  ...,  0.0938, -0.1567, -0.0430],\n",
      "        [-0.3004,  0.1699, -0.2463,  ..., -0.2605, -0.1276, -0.1881],\n",
      "        [-0.1517, -0.0997,  0.2631,  ..., -0.0520,  0.1256, -0.3389],\n",
      "        ...,\n",
      "        [ 0.0198, -0.0631, -0.0334,  ..., -0.0089,  0.2951, -0.1186],\n",
      "        [ 0.0608,  0.0669, -0.2214,  ..., -0.1790, -0.0152, -0.1483],\n",
      "        [-0.1380,  0.2212,  0.0287,  ...,  0.1044, -0.0399, -0.0844]],\n",
      "       requires_grad=True)\n",
      "VNet.fc_zip_2.bias Parameter containing:\n",
      "tensor([-0.1039,  0.0186, -0.1066, -0.0787, -0.0353, -0.0986, -0.0509, -0.0579,\n",
      "        -0.0044, -0.1545,  0.1255, -0.0381, -0.0126, -0.0946, -0.0490,  0.0296,\n",
      "        -0.0457, -0.0403, -0.0385, -0.0687, -0.0759,  0.0736, -0.0620, -0.0662,\n",
      "         0.0769, -0.0617,  0.0180,  0.0154, -0.0688, -0.0110,  0.0452,  0.0435,\n",
      "        -0.0266, -0.0913,  0.0222,  0.0586, -0.0600, -0.0487, -0.0334,  0.0901,\n",
      "        -0.0668,  0.0342, -0.0791,  0.0039, -0.0297, -0.0448, -0.1637, -0.0666,\n",
      "         0.0203,  0.0245, -0.0186, -0.0014, -0.0946, -0.0811, -0.0746,  0.0455,\n",
      "        -0.0952, -0.0568, -0.1166,  0.0106, -0.0093, -0.0296, -0.0451, -0.0484],\n",
      "       requires_grad=True)\n",
      "VNet.fc_zip_3.weight Parameter containing:\n",
      "tensor([[ 0.8951, -0.0259],\n",
      "        [ 0.4407, -0.5354],\n",
      "        [ 1.0089,  0.7937],\n",
      "        [ 0.1480,  1.0850],\n",
      "        [-0.5646, -0.4156],\n",
      "        [ 0.4289,  0.0345],\n",
      "        [ 0.5500,  0.6855],\n",
      "        [ 0.5351,  0.7935],\n",
      "        [-0.0308,  0.4731],\n",
      "        [-0.1322, -0.1831],\n",
      "        [ 0.3939,  0.0405],\n",
      "        [ 0.8725, -0.9692],\n",
      "        [-0.0171,  1.3818],\n",
      "        [ 0.2858, -1.3086],\n",
      "        [-1.0548, -0.0327],\n",
      "        [-0.5165,  0.3195],\n",
      "        [-1.3954,  0.0460],\n",
      "        [ 1.6666,  0.4419],\n",
      "        [-0.0829, -0.0780],\n",
      "        [ 1.1319, -0.5422],\n",
      "        [ 1.8992,  1.4223],\n",
      "        [-0.1463, -0.2946],\n",
      "        [-0.2060,  0.8227],\n",
      "        [-0.9169, -0.1665],\n",
      "        [-2.2460, -0.2748],\n",
      "        [ 1.1195, -0.5552],\n",
      "        [ 0.7729,  0.7642],\n",
      "        [ 0.3784,  0.9528],\n",
      "        [-0.4933, -1.2984],\n",
      "        [-0.4225, -1.3423],\n",
      "        [-0.3168, -0.5820],\n",
      "        [-1.4830,  0.5467],\n",
      "        [ 0.7194,  2.1284],\n",
      "        [ 0.5191,  0.6378],\n",
      "        [ 0.0076,  1.0368],\n",
      "        [ 1.6503, -0.3741],\n",
      "        [-0.3244,  0.6168],\n",
      "        [-1.0872,  0.1622],\n",
      "        [ 0.1203, -0.8795],\n",
      "        [-0.1655,  0.0779],\n",
      "        [ 0.6288,  1.0367],\n",
      "        [ 1.3112,  0.4729],\n",
      "        [-0.1184, -0.5963],\n",
      "        [-0.7532,  0.5641],\n",
      "        [-0.7466,  0.9581],\n",
      "        [-1.4292,  0.8515],\n",
      "        [-0.3275,  0.1777],\n",
      "        [ 1.2594, -0.9913],\n",
      "        [ 0.5491,  0.8191],\n",
      "        [ 1.3840, -0.7430],\n",
      "        [-1.0381, -0.8788],\n",
      "        [-0.3184, -0.9399],\n",
      "        [-1.0400, -2.0780],\n",
      "        [ 0.0487,  0.6640],\n",
      "        [-0.7183, -0.1117],\n",
      "        [-0.5363,  0.3236],\n",
      "        [ 0.2726,  0.6034],\n",
      "        [-0.8466, -0.2291],\n",
      "        [-1.3929, -0.6666],\n",
      "        [-0.7950, -0.4011],\n",
      "        [ 1.1830, -0.7124],\n",
      "        [-1.9125, -1.4874],\n",
      "        [ 0.5154,  0.1418],\n",
      "        [ 0.3933,  0.0994]], requires_grad=True)\n",
      "VNet.fc_zip_3.bias Parameter containing:\n",
      "tensor([-0.1039,  0.0186, -0.1066, -0.0787, -0.0353, -0.0986, -0.0509, -0.0579,\n",
      "        -0.0044, -0.1545,  0.1255, -0.0381, -0.0126, -0.0946, -0.0490,  0.0296,\n",
      "        -0.0457, -0.0403, -0.0385, -0.0687, -0.0759,  0.0736, -0.0620, -0.0662,\n",
      "         0.0769, -0.0617,  0.0180,  0.0154, -0.0688, -0.0110,  0.0452,  0.0435,\n",
      "        -0.0266, -0.0913,  0.0222,  0.0586, -0.0600, -0.0487, -0.0334,  0.0901,\n",
      "        -0.0668,  0.0342, -0.0791,  0.0039, -0.0297, -0.0448, -0.1637, -0.0666,\n",
      "         0.0203,  0.0245, -0.0186, -0.0014, -0.0946, -0.0811, -0.0746,  0.0455,\n",
      "        -0.0952, -0.0568, -0.1166,  0.0106, -0.0093, -0.0296, -0.0451, -0.0484],\n",
      "       requires_grad=True)\n",
      "VNet.linear.weight Parameter containing:\n",
      "tensor([[ 0.0816, -0.0383,  0.1013,  ...,  0.0076,  0.3176,  0.0281],\n",
      "        [ 0.0466,  0.0177, -0.1722,  ..., -0.0853,  0.2574, -0.0186],\n",
      "        [ 0.0723,  0.0348,  0.1871,  ..., -0.0439, -0.3117,  0.1160],\n",
      "        ...,\n",
      "        [ 0.1085, -0.1831,  0.1657,  ...,  0.0477, -0.1653,  0.0124],\n",
      "        [ 0.0564, -0.1812,  0.1389,  ...,  0.0475, -0.0437, -0.0109],\n",
      "        [ 0.2049,  0.0468,  0.1586,  ..., -0.0189,  0.0548, -0.0811]],\n",
      "       requires_grad=True)\n",
      "VNet.linear.bias Parameter containing:\n",
      "tensor([-0.0280, -0.0113, -0.0247, -0.0610, -0.1045, -0.0564, -0.0550, -0.0054,\n",
      "        -0.0864, -0.0331, -0.0624, -0.0021, -0.0761, -0.0431, -0.0244, -0.0142,\n",
      "        -0.0390,  0.0046, -0.0556, -0.0846, -0.0539, -0.0509, -0.0465, -0.0813,\n",
      "        -0.0805, -0.0241, -0.0614, -0.0701, -0.1019, -0.0636, -0.0331, -0.1006,\n",
      "        -0.0637, -0.1089, -0.0418, -0.0563, -0.0439, -0.0499, -0.0463, -0.0022,\n",
      "        -0.0362, -0.0500, -0.0628, -0.0383, -0.0455, -0.0721, -0.0387, -0.0446,\n",
      "        -0.0309, -0.0499, -0.0562, -0.0473, -0.0430, -0.0679, -0.0550, -0.0427,\n",
      "        -0.0297,  0.0380, -0.1023, -0.0683, -0.0531, -0.0777, -0.0640, -0.0291],\n",
      "       requires_grad=True)\n",
      "VNet.fc_par_1.weight Parameter containing:\n",
      "tensor([[ 0.1115, -0.0556,  0.1518,  ..., -0.0239, -0.0270,  0.0221],\n",
      "        [-0.0986, -0.1198,  0.0332,  ...,  0.0017,  0.0340, -0.2462],\n",
      "        [ 0.0139,  0.0200,  0.0548,  ...,  0.0327,  0.1236,  0.1316],\n",
      "        ...,\n",
      "        [-0.0878, -0.0324,  0.0266,  ..., -0.0151, -0.0156, -0.1007],\n",
      "        [ 0.1952, -0.0870,  0.0261,  ...,  0.2398,  0.0872,  0.0278],\n",
      "        [ 0.1990, -0.0127, -0.1151,  ..., -0.1130, -0.2733,  0.0188]],\n",
      "       requires_grad=True)\n",
      "VNet.fc_par_1.bias Parameter containing:\n",
      "tensor([-0.0323,  0.0242, -0.0008, -0.0100, -0.0292, -0.0063,  0.0095, -0.0151,\n",
      "         0.0122, -0.0155,  0.0292,  0.0204,  0.0932, -0.0361, -0.0360, -0.0392,\n",
      "         0.0306, -0.0837,  0.0351,  0.0391,  0.0936,  0.0148, -0.0158,  0.0088,\n",
      "         0.0304,  0.0049,  0.0450,  0.0035,  0.0113, -0.0306,  0.0067, -0.0176,\n",
      "        -0.0111,  0.0041,  0.0940, -0.1219,  0.0600,  0.0477, -0.0486, -0.0058,\n",
      "         0.0781,  0.0134,  0.0342, -0.0224,  0.0788, -0.0115,  0.0460, -0.0864,\n",
      "         0.0901,  0.0138, -0.0021,  0.0794, -0.0967,  0.0051,  0.0252, -0.0093,\n",
      "         0.0738, -0.0119,  0.0510,  0.0101,  0.0674, -0.0601,  0.0220, -0.0427],\n",
      "       requires_grad=True)\n",
      "VNet.fc_par_2.weight Parameter containing:\n",
      "tensor([[-0.1182, -0.0152,  0.1423,  ...,  0.2279,  0.1293,  0.0759],\n",
      "        [ 0.1671, -0.1217,  0.0947,  ..., -0.1158,  0.0599, -0.2833],\n",
      "        [ 0.1613, -0.1726, -0.3865,  ..., -0.1516,  0.1855,  0.2671],\n",
      "        ...,\n",
      "        [ 0.0596,  0.1078,  0.1423,  ..., -0.3411, -0.0210,  0.2374],\n",
      "        [-0.2385, -0.1036, -0.0129,  ..., -0.0641,  0.0631, -0.3341],\n",
      "        [-0.0310, -0.1507,  0.1827,  ..., -0.1080, -0.0091, -0.2102]],\n",
      "       requires_grad=True)\n",
      "VNet.fc_par_2.bias Parameter containing:\n",
      "tensor([-0.0243, -0.0479, -0.0109, -0.0150,  0.0475,  0.0253,  0.0102,  0.0149,\n",
      "        -0.0014, -0.0265, -0.0071,  0.0089,  0.0146, -0.0023, -0.0755,  0.0890,\n",
      "        -0.0234,  0.0920,  0.0028,  0.0771,  0.0020, -0.0052, -0.0078, -0.0755,\n",
      "        -0.0092,  0.0547,  0.0321,  0.0465, -0.0113, -0.0653,  0.0477, -0.0758,\n",
      "         0.0693,  0.0292, -0.0141,  0.0279,  0.0098,  0.0647, -0.0817, -0.0352,\n",
      "        -0.0299,  0.0195, -0.0048, -0.0062, -0.0441,  0.0908,  0.0036,  0.0565,\n",
      "        -0.1024,  0.0473, -0.0425,  0.0934,  0.0069,  0.0582, -0.0806, -0.0037,\n",
      "         0.0489,  0.0195, -0.1048,  0.0290, -0.0925,  0.0320, -0.0563,  0.0580],\n",
      "       requires_grad=True)\n",
      "VNet.fc_par_3.weight Parameter containing:\n",
      "tensor([[-0.1130, -0.2191, -0.0376,  ..., -0.2114, -0.3158, -0.1061],\n",
      "        [-0.1928,  0.2119, -0.4138,  ..., -0.2108, -0.1716, -0.0671],\n",
      "        [-0.0289, -0.0791, -0.2699,  ...,  0.0307, -0.1209, -0.0918],\n",
      "        ...,\n",
      "        [-0.0411, -0.1697,  0.0122,  ...,  0.0146,  0.1610, -0.1297],\n",
      "        [-0.2142, -0.1975,  0.0899,  ...,  0.1607,  0.0054,  0.1586],\n",
      "        [-0.1687, -0.0852,  0.2425,  ...,  0.0131, -0.2951,  0.0544]],\n",
      "       requires_grad=True)\n",
      "VNet.fc_par_3.bias Parameter containing:\n",
      "tensor([-0.1641, -0.1898, -0.1917, -0.1708, -0.1973, -0.1755, -0.1935, -0.1681,\n",
      "        -0.1837, -0.1414, -0.1452, -0.1820, -0.1916, -0.2019, -0.1977, -0.1715,\n",
      "        -0.1547, -0.1390, -0.1922, -0.2205, -0.1950, -0.1753, -0.1466, -0.2082,\n",
      "        -0.1376, -0.1736, -0.1613, -0.1355, -0.1162, -0.1499, -0.1206, -0.1746,\n",
      "        -0.1688, -0.1544, -0.2077, -0.1964, -0.1324, -0.2217, -0.2305, -0.1769,\n",
      "        -0.1365, -0.1119, -0.1295, -0.1679, -0.1387, -0.2093, -0.1364, -0.1488,\n",
      "        -0.1657, -0.1733, -0.1376, -0.1604, -0.1355, -0.1875, -0.1054, -0.1197,\n",
      "        -0.2086, -0.1761, -0.1922, -0.1764, -0.1197, -0.2052, -0.1109, -0.1654],\n",
      "       requires_grad=True)\n"
     ]
    }
   ],
   "source": [
    "# trained parameters of the network\n",
    "for name,param in dynamics.named_parameters():\n",
    "    print(name,param)"
   ]
  },
  {
   "cell_type": "markdown",
   "metadata": {},
   "source": [
    "# saving the config details"
   ]
  },
  {
   "cell_type": "code",
   "execution_count": 109,
   "metadata": {},
   "outputs": [],
   "source": [
    "trained_AcceptanceMean = mean_px\n",
    "trained_loss = loss_plot[-1]\n",
    "HMC_AcceptanceSampleProb =sum(HMC_accepted)/nTrajs\n",
    "HMC_Samples = HMC_samples.shape\n",
    "HMC_Meanpx = np.mean(HMC_prob)\n",
    "L2HMC_AcceptanceSampleProb = sum(L2HMC_acceptance)/nTrajs\n",
    "L2HMC_Meanpx = np.mean(L2HMC_px)\n",
    "L2HMC_Samples = L2HMC_samples.shape\n",
    "lines = [f\"U = {U}, beta = {beta}, Nt = {Nt}, Nx = {Nx}, dim = {x_dim}\",f\"Nmd = {Nmd}, eps = {final_eps}, scale = {scale}, epoch = {epochs}\",\n",
    "         f\"training_Samples = {training_samples}\",f\"trained_AcceptanceMean = {trained_AcceptanceMean}\",f\"trained_loss = {trained_loss}\",\n",
    "         f\"HMC_Samples = {HMC_Samples}\",f\"HMC_Meanpx = {HMC_Meanpx}\",f\"HMC_AcceptanceSampleProb = {HMC_AcceptanceSampleProb}\",f\"L2HMC_AcceptanceSampleProb = {L2HMC_AcceptanceSampleProb}\",\n",
    "         f\"L2HMC_Meanpx={L2HMC_Meanpx}\",f\"L2HMC_Samples = {L2HMC_Samples}\"]\n",
    "\n",
    "with open(f'ConfigDetailsU{U}B{beta}Nt{Nt}_{count}.txt', 'w') as f:\n",
    "    f.write('\\n'.join(lines))\n",
    "\n",
    "np.save(\"L2HMCU{}B{}Nt{}_{}.npy\".format(U,beta,Nt,count),L2HMC_samples_reduced)\n",
    "np.save(f\"phisqU{U}B{beta}Nt{Nt}_{count}.npy\",phisq)\n",
    "np.save(f\"HMCU{U}B{beta}Nt{Nt}_{count}.npy\",HMC_samples_reduced)"
   ]
  },
  {
   "cell_type": "markdown",
   "metadata": {},
   "source": [
    "# ACL spectrum "
   ]
  },
  {
   "cell_type": "code",
   "execution_count": null,
   "metadata": {},
   "outputs": [],
   "source": [
    "#auto correlation spectrum\n",
    "\n",
    "# def acl_spectrum(X, scale):\n",
    "#     n = X.shape[0]\n",
    "#     return np.array([autocovariance_2(X / scale, tau=t) for t in range(n - 1)])\n",
    "\n",
    "# def autocovariance_2(X, tau=0):\n",
    "#     dT, dN, dX = np.shape(X)\n",
    "#     s = 0.\n",
    "#     for t in range(dT - tau):\n",
    "#         x1 = X[t, :, :]\n",
    "#         x2 = X[t+tau, :, :]\n",
    "#         s += np.sum(x1 * x2) / dN\n",
    "\n",
    "\n",
    "#     return s / (dT - tau)\n",
    "\n"
   ]
  },
  {
   "cell_type": "code",
   "execution_count": null,
   "metadata": {},
   "outputs": [],
   "source": [
    "# scale = 32\n",
    "# L2HMC_auto = acl_spectrum(L2HMC_samples, scale=scale)"
   ]
  },
  {
   "cell_type": "code",
   "execution_count": null,
   "metadata": {},
   "outputs": [],
   "source": [
    "# points = 50\n",
    "# xaxis = 1 * np.arange(points)\n",
    "# gradient = Nmd*np.arange(points)\n",
    "# plt.title(\"Auto correlation for L2HMC sampled $\\phi$\")\n",
    "# # plt.xlabel(\"lags\")\n",
    "# plt.xlabel(\"gradient computation\")\n",
    "# plt.ylabel(\"Auto-correlation\")\n",
    "# plt.grid(True)\n",
    "# # plt.plot(xaxis, L2HMC_auto[:points], label=f\"{points}\")\n",
    "# plt.plot(gradient, L2HMC_auto[:points], label=f\"{points}\")\n",
    "# plt.legend()\n",
    "# # plt.savefig(\"L2HMCAC_U{}B{}Nt{}_{}.png\".format(U,beta,Nt,count))"
   ]
  },
  {
   "cell_type": "code",
   "execution_count": null,
   "metadata": {},
   "outputs": [],
   "source": [
    "# scale = 32\n",
    "# L2HMC_auto_phisq = acl_spectrum(phisq_mean, scale=scale)"
   ]
  },
  {
   "cell_type": "code",
   "execution_count": null,
   "metadata": {},
   "outputs": [],
   "source": [
    "# points = 1000\n",
    "# xaxis = 1 * np.arange(points)\n",
    "# gradient = 5*np.arange(points)\n",
    "# plt.title(\"Auto correlation for L2HMC sampled $\\phi^2$\")\n",
    "# plt.xlabel(\"lags\")\n",
    "# # plt.xlabel(\"gradient computation\")\n",
    "# plt.ylabel(\"Auto-correlation\")\n",
    "# plt.grid(True)\n",
    "# plt.plot(xaxis, L2HMC_auto_phisq[:points],'.', label=f\"{points}\")\n",
    "# # plt.plot(gradient, L2HMC_auto_phisq[:points], label=f\"{points}\")\n",
    "# plt.legend()\n",
    "# # plt.savefig(\"L2HMCACphisq_U{}B{}Nt{}_{}.png\".format(U,beta,Nt,count))"
   ]
  },
  {
   "cell_type": "markdown",
   "metadata": {},
   "source": [
    "# ACL spectrum using mathplotlib "
   ]
  },
  {
   "cell_type": "code",
   "execution_count": null,
   "metadata": {},
   "outputs": [],
   "source": [
    "# plt.acorr(L2HMC_samples/32., usevlines = True, normed = True, maxlags = 100, lw = 2)\n",
    "# plt.title(\" Autocorrelation of $\\phi$\")\n",
    "# plt.xlabel(\"lags\")\n",
    "# plt.ylabel(\"Auto-Correlation \")\n",
    "# plt.grid(True)\n",
    "# plt.acorr(phisq_mean/32, usevlines = True, normed = True, maxlags = 100, lw = 2)\n",
    "# plt.title(\" Autocorrelation of $\\phi^2$\")\n",
    "# plt.xlabel(\"lags\")\n",
    "# plt.ylabel(\"Auto-Correlation \")\n",
    "# plt.grid(True)"
   ]
  },
  {
   "cell_type": "markdown",
   "metadata": {},
   "source": [
    "# ACL spectrum using statsmodel"
   ]
  },
  {
   "cell_type": "code",
   "execution_count": 122,
   "metadata": {},
   "outputs": [
    {
     "data": {
      "text/plain": [
       "<matplotlib.legend.Legend at 0x1cc123bc9c8>"
      ]
     },
     "execution_count": 122,
     "metadata": {},
     "output_type": "execute_result"
    },
    {
     "data": {
      "image/png": "[encoded data removed]",
      "text/plain": [
       "<Figure size 432x288 with 1 Axes>"
      ]
     },
     "metadata": {
      "needs_background": "light"
     },
     "output_type": "display_data"
    }
   ],
   "source": [
    "from statsmodels.graphics.tsaplots import plot_acf\n",
    "from statsmodels.tsa.stattools import acf\n",
    "lags = 2000\n",
    "therm = 100\n",
    "\n",
    "# plot_acf(L2HMC_samples.flatten(),lags=1000,use_vlines=False,alpha=None)\n",
    "# plt.title(\" Autocorrelation of $\\phi$\")\n",
    "# plt.xlabel(\"lags\")\n",
    "# plt.ylabel(\"Auto-Correlation \")\n",
    "# plt.savefig(\"L2HMCAC_U{}B{}Nt{}_{}.png\".format(U,beta,Nt,count))\n",
    "\n",
    "ac = acf(phisq_mean[therm:],nlags=lags,alpha=None)\n",
    "plot_acf(phisq_mean[therm:],lags=lags,use_vlines=False,alpha=None,label=f\"samples={len(phisq_mean)}\")\n",
    "plt.grid()\n",
    "plt.title(\" Autocorrelation of $<\\phi^2>$\")\n",
    "plt.xlabel(\"lags\")\n",
    "plt.ylabel(\"Auto-Correlation \")\n",
    "plt.legend()\n",
    "# plt.savefig(f\"phisqMeanAuto_U{U}B{beta}Nt{Nt}_{count}.png\")"
   ]
  },
  {
   "cell_type": "code",
   "execution_count": 117,
   "metadata": {},
   "outputs": [
    {
     "data": {
      "text/plain": [
       "-0.0021543603756693764"
      ]
     },
     "execution_count": 117,
     "metadata": {},
     "output_type": "execute_result"
    }
   ],
   "source": [
    "ac[-1]"
   ]
  },
  {
   "cell_type": "markdown",
   "metadata": {},
   "source": [
    "# Exact coorelators"
   ]
  },
  {
   "cell_type": "code",
   "execution_count": null,
   "metadata": {},
   "outputs": [],
   "source": [
    "# exactData1 = open(\"C:/Users/chels/Desktop/thesis_code/l2hmcPytorch/exact2sites/exact.two_sites.exp.nt128.beta4_0.U2_0.mu0_0.txt\").read().split('\\n')\n",
    "# exT1 = np.array(exactData[0].split(','),dtype=float)\n",
    "# exBonding1 =  np.array(exactData[1].split(','),dtype=float)\n",
    "# exAntiBonding1 = np.array(exactData[2].split(','),dtype=float)\n"
   ]
  },
  {
   "cell_type": "code",
   "execution_count": 11,
   "metadata": {},
   "outputs": [],
   "source": [
    "#Exact co-relators data \n",
    "exactData = open(\"C:\\\\Users\\\\chels\\\\Desktop\\\\thesis_code\\\\NNgHMC\\\\exactFiles\\\\U4B6.dat\").readlines()\n",
    "exT = []\n",
    "exBonding = []\n",
    "exAntiBonding = []\n",
    "exAA = []\n",
    "exAB = []\n",
    "exBA = []\n",
    "exBB = []\n",
    "for i in range(len(exactData)):\n",
    "    split = exactData[i].split()\n",
    "    exT.append(float(split[0]))   # tau\n",
    "    exAntiBonding.append(float(split[1]))  # anti-bonding\n",
    "    exBonding.append(float(split[2]))      # bonding\n",
    "    exAA.append(float(split[3]))  # cAA\n",
    "    exAB.append(float(split[4]))  # cAB\n",
    "    exBA.append(float(split[5]))  # cBA\n",
    "    exBB.append(float(split[6]))  # cBB"
   ]
  },
  {
   "cell_type": "markdown",
   "metadata": {},
   "source": [
    "# Correlators Calculation with Binning and bootstrap error"
   ]
  },
  {
   "cell_type": "code",
   "execution_count": 12,
   "metadata": {},
   "outputs": [],
   "source": [
    "#Calculating co-relators \n",
    "\n",
    "def correlators(sample):\n",
    "\n",
    "    corrUp_b = [ [] for t in range(Nt)] # <===== each correlator has Nt elements\n",
    "    corrUp_ab = [ [] for t in range(Nt)]\n",
    "    Cxx = [ [] for t in range(Nt)]\n",
    "    Cxy = [ [] for t in range(Nt)]\n",
    "    Cyx = [ [] for t in range(Nt)]\n",
    "    Cyy = [ [] for t in range(Nt)]\n",
    "\n",
    "    nTherm = 200\n",
    "\n",
    "    ### calculate the bonding/anti-bonding correlator\n",
    "    for i in range(nTherm,nTrajs):\n",
    "        # arrow up correlator\n",
    "        phi = sample[i]\n",
    "        Mphi(phi,expk,Nt)\n",
    "        invMUp = np.linalg.inv(M)\n",
    "\n",
    "        #  construct the correlators\n",
    "        # bonding correlator is .5*(Cxx+Cxy+Cyx+Cyy)\n",
    "        # antibonding is .5*(Cxx-Cxy-Cyx+Cyy)\n",
    "        for t in range(Nt):\n",
    "            corrUp_b[t].append(np.real(.5*(invMUp[t*Nx+0][0*Nx+0]+invMUp[t*Nx+0][0*Nx+1]+\n",
    "                                   invMUp[t*Nx+1][0*Nx+0]+invMUp[t*Nx+1][0*Nx+1])))\n",
    "            corrUp_ab[t].append(np.real(.5*(invMUp[t*Nx+0][0*Nx+0]-invMUp[t*Nx+0][0*Nx+1]-\n",
    "                                   invMUp[t*Nx+1][0*Nx+0]+invMUp[t*Nx+1][0*Nx+1])))\n",
    "            Cxx[t].append(np.real(invMUp[t*Nx+0][0*Nx+0]))\n",
    "            Cxy[t].append(np.real(invMUp[t*Nx+0][0*Nx+1]))\n",
    "            Cyx[t].append(np.real(invMUp[t*Nx+1][0*Nx+0]))\n",
    "            Cyy[t].append(np.real(invMUp[t*Nx+1][0*Nx+1]))\n",
    "\n",
    "    # arrays that store the averages\n",
    "    corrBond = []\n",
    "    corrAntiBond = []\n",
    "\n",
    "    # naming conventions.  Here 'A' = 'x' and 'B' = 'y'\n",
    "    cAA = []\n",
    "    cAB = []\n",
    "    cBA = []\n",
    "    cBB = []\n",
    "\n",
    "    # now I calculate the averages for each timeslice\n",
    "    for t in range(Nt):\n",
    "        corrBond.append(np.mean(corrUp_b[t]))\n",
    "        corrAntiBond.append(np.mean(corrUp_ab[t]))\n",
    "        cAA.append(np.mean(Cxx[t]))\n",
    "        cAB.append(np.mean(Cxy[t]))\n",
    "        cBA.append(np.mean(Cyx[t]))\n",
    "        cBB.append(np.mean(Cyy[t]))\n",
    "\n",
    "    tau = np.linspace(0,beta-beta/Nt,Nt) # <===== correct distancing for tau\n",
    "    return corrBond,corrAntiBond,cAA,cAB,cBA,cBB,tau,corrUp_b,corrUp_ab,Cxx,Cxy,Cyx,Cyy\n",
    "\n"
   ]
  },
  {
   "cell_type": "code",
   "execution_count": 13,
   "metadata": {},
   "outputs": [],
   "source": [
    "#Binning and Bootstraping\n",
    "def binAndBoot(corr,nBN,nBS,check):\n",
    "    # corr is the array of of correlators \n",
    "    # nBN is the number or elements to bin\n",
    "    # nBS is the number of bootstrap samples\n",
    "    if check == 1:\n",
    "        # making the correlators in correct form [samples]x[Nt]\n",
    "        correlators = []\n",
    "        for i in range(len(corr[0])): # range(samples)\n",
    "            correlators.append([corr[t][i] for t in range(len(corr))]) #range(Nt)\n",
    "    else:\n",
    "        correlators = corr\n",
    "        \n",
    "    corrBN = [] #shape [(samples)/nBN x Nt]\n",
    "    for i in range(int(len(correlators)/nBN)): #range(samples/nBN)\n",
    "        corrBN.append(np.mean(correlators[i*nBN:(i+1)*nBN],axis=0))\n",
    "        \n",
    "    n = len(corrBN)  # length of ensemble (samples/nBN)\n",
    "    bsMeans = []\n",
    "    \n",
    "    # here are my bootstrap indices\n",
    "    bsSamples = [ np.random.randint(n,size=n) for bs in range(nBS)]  #shape [nBS x (samples/nBN) ]\n",
    "    for sample in bsSamples: #shape [(samples/nBN) ]\n",
    "        bsMeans.append(np.mean([corrBN[index] for index in sample],axis=0))   # mean along rows( [(samples/nBN) x Nt]) \n",
    "    # bsMeans.append([1 x Nt]), shape [nBS x 16]\n",
    "    # returns array of shape[1 x Nt]\n",
    "    return np.std(bsMeans,axis=0) "
   ]
  },
  {
   "cell_type": "code",
   "execution_count": 91,
   "metadata": {},
   "outputs": [],
   "source": [
    "M = np.identity(x_dim) + 0j\n",
    "a_corrBond,a_corrAntiBond,a_cAA,a_cAB,a_cBA,a_cBB,a_tau,a_corrUp_b,a_corrUp_ab,a_Cxx,a_Cxy,a_Cyx,a_Cyy = correlators(HMC_samples_reduced)\n",
    "# b_corrBond,b_corrAntiBond,b_cAA,b_cAB,b_cBA,b_cBB,b_tau,b_corrUp_b,b_corrUp_ab,b_Cxx,b_Cxy,b_Cyx,b_Cyy = correlators(HMCNotebook[:nTrajs])\n",
    "nbins = 200  #number of bins\n",
    "nbs = 400   # number of bootstrap samples"
   ]
  },
  {
   "cell_type": "code",
   "execution_count": 103,
   "metadata": {},
   "outputs": [],
   "source": [
    "nbins = 200  #number of bins\n",
    "nbs = 400   # number of bootstrap samples\n",
    "corrBond,corrAntiBond,cAA,cAB,cBA,cBB,tau,corrUp_b,corrUp_ab,Cxx,Cxy,Cyx,Cyy = correlators(L2HMC_samples_reduced)"
   ]
  },
  {
   "cell_type": "code",
   "execution_count": 98,
   "metadata": {},
   "outputs": [
    {
     "name": "stdout",
     "output_type": "stream",
     "text": [
      "[nan, nan, nan, nan, nan, nan, nan, nan, nan, nan, nan, nan, nan, nan, nan, nan, nan, nan, nan, nan, nan, nan, nan, nan, nan, nan, nan, nan, nan, nan, nan, nan] [nan, nan, nan, nan, nan, nan, nan, nan, nan, nan, nan, nan, nan, nan, nan, nan, nan, nan, nan, nan, nan, nan, nan, nan, nan, nan, nan, nan, nan, nan, nan, nan]\n"
     ]
    }
   ],
   "source": [
    "print(corrBond,corrAntiBond)"
   ]
  },
  {
   "cell_type": "markdown",
   "metadata": {},
   "source": [
    "# plotting correlators"
   ]
  },
  {
   "cell_type": "code",
   "execution_count": 104,
   "metadata": {},
   "outputs": [
    {
     "data": {
      "text/plain": [
       "Text(0.5, 0.98, '2 site Hexagonal Lattice\\nU=4.0, beta=6.0, Nt=32, samples=10000')"
      ]
     },
     "execution_count": 104,
     "metadata": {},
     "output_type": "execute_result"
    },
    {
     "data": {
      "image/png": "[encoded data removed]",
      "text/plain": [
       "<Figure size 720x576 with 1 Axes>"
      ]
     },
     "metadata": {
      "needs_background": "light"
     },
     "output_type": "display_data"
    }
   ],
   "source": [
    "plt.figure(figsize=(10,8))\n",
    "plt.errorbar(tau,corrBond,yerr=binAndBoot(corrUp_b,nbins,nbs,1),marker='o',label='L2HMCBonding')\n",
    "plt.errorbar(tau,corrAntiBond,yerr=binAndBoot(corrUp_ab,nbins,nbs,1),marker='o',label='L2HMCAntiBonding')\n",
    "plt.plot(exT,exBonding,'k--',label='exact')\n",
    "plt.plot(exT,exAntiBonding,'k--')\n",
    "plt.grid()\n",
    "plt.ylabel(r'$C(\\tau)$',fontsize=18)\n",
    "plt.xlabel(r'$\\tau$',fontsize=18)\n",
    "plt.yscale('log')\n",
    "plt.legend(loc='best')\n",
    "plt.suptitle('2 site Hexagonal Lattice\\nU={}, beta={}, Nt={}, samples={}'.format(U,beta,Nt,nTrajs,fontsize=20))\n",
    "# plt.savefig(\"2siteL2HMCBonding_U{}B{}Nt{}_{}.png\".format(U,beta,Nt,count))"
   ]
  },
  {
   "cell_type": "code",
   "execution_count": 110,
   "metadata": {},
   "outputs": [
    {
     "data": {
      "image/png": "[encoded data removed]",
      "text/plain": [
       "<Figure size 720x576 with 1 Axes>"
      ]
     },
     "metadata": {
      "needs_background": "light"
     },
     "output_type": "display_data"
    }
   ],
   "source": [
    "plt.figure(figsize=(10,8))\n",
    "plt.errorbar(a_tau,a_corrBond,yerr=binAndBoot(a_corrUp_b,nbins,nbs,1),marker='o',label='HMCBonding')\n",
    "plt.errorbar(a_tau,a_corrAntiBond,yerr=binAndBoot(a_corrUp_ab,nbins,nbs,1),marker='o',label='HMCAntiBonding')\n",
    "plt.plot(exT,exBonding,'k--',label='exact')\n",
    "plt.plot(exT,exAntiBonding,'k--')\n",
    "plt.grid()\n",
    "plt.ylabel(r'$C(\\tau)$',fontsize=18)\n",
    "plt.xlabel(r'$\\tau$',fontsize=18)\n",
    "plt.yscale('log')\n",
    "plt.legend(loc='best')\n",
    "plt.suptitle('2 site Hexagonal Lattice\\nU={}, beta={}, Nt={}, samples={}'.format(U,beta,Nt,nTrajs,fontsize=20))\n",
    "plt.savefig(\"2siteL2HMCBonding_U{}B{}Nt{}_{}.png\".format(U,beta,Nt,count))"
   ]
  },
  {
   "cell_type": "code",
   "execution_count": null,
   "metadata": {},
   "outputs": [],
   "source": [
    "fig,ax = plt.subplots(1,2,figsize=(15,15))\n",
    "\n",
    "axx = ax[0]\n",
    "axx.errorbar(a_tau,a_corrBond,yerr=binAndBoot(a_corrUp_b,nbins,nbs,1),marker='o',label='HMCBonding')\n",
    "axx.errorbar(a_tau,a_corrAntiBond,yerr=binAndBoot(a_corrUp_ab,nbins,nbs,1),marker='o',label='HMCAntiBonding')\n",
    "axx.plot(exT,exBonding,'k--',label='exact')\n",
    "axx.plot(exT,exAntiBonding,'k--')\n",
    "axx.grid(True)\n",
    "axx.set_xlabel(r'$t$',fontsize=18)\n",
    "axx.set_ylabel(r'$C_{\\pm}$',fontsize=18)\n",
    "axx.set_yscale('log')\n",
    "axx.legend(loc='best')\n",
    "\n",
    "# axx = ax[1]\n",
    "# axx.errorbar(tau,corrBond,yerr=binAndBoot(corrUp_b,nbins,nbs,1),marker='o',label='L2HMCBonding')\n",
    "# axx.errorbar(tau,corrAntiBond,yerr=binAndBoot(corrUp_ab,nbins,nbs,1),marker='o',label='L2HMCAntiBonding')\n",
    "# axx.plot(exT,exBonding,'k--',label='exact')\n",
    "# axx.plot(exT,exAntiBonding,'k--')\n",
    "# axx.grid()\n",
    "# axx.set_xlabel(r'$t$',fontsize=18)\n",
    "# axx.set_yscale('log')\n",
    "# axx.legend(loc='best')\n",
    "\n",
    "# axx = ax[2]\n",
    "# axx.errorbar(a_tau,a_corrBond,yerr=binAndBoot(a_corrUp_b,nbins,nbs,1),marker='o',label='HMCBonding')\n",
    "# axx.errorbar(tau,corrAntiBond,yerr=binAndBoot(corrUp_ab,nbins,nbs,1),marker='o',label='L2HMCAntiBonding')\n",
    "# axx.errorbar(a_tau,a_corrAntiBond,yerr=binAndBoot(a_corrUp_ab,nbins,nbs,1),marker='o',label='HMCAntiBonding')\n",
    "# axx.errorbar(tau,corrBond,yerr=binAndBoot(corrUp_b,nbins,nbs,1),marker='o',label='L2HMCBonding')\n",
    "# axx.plot(exT,exBonding,'k--',label='exact')\n",
    "# axx.plot(exT,exAntiBonding,'k--')\n",
    "# axx.grid()\n",
    "# axx.set_xlabel(r'$t$',fontsize=18)\n",
    "# axx.set_yscale('log')\n",
    "# axx.legend(loc='best')\n",
    "\n",
    "# # axx = ax[1][1]\n",
    "# # # axx.errorbar(a_tau,a_corrBond,yerr=binAndBoot(a_corrUp_b,nbins,nbs,1),marker='o',label='HMCBonding')\n",
    "# # # axx.errorbar(a_tau,a_corrAntiBond,yerr=binAndBoot(a_corrUp_ab,nbins,nbs,1),marker='o',label='HMCAntiBonding')\n",
    "# # # axx.errorbar(b_tau,b_corrBond,yerr=binAndBoot(b_corrUp_b,nbins,nbs,1),marker='o',label='actual_HMCBonding')\n",
    "# # # axx.errorbar(b_tau,b_corrAntiBond,yerr=binAndBoot(b_corrUp_ab,nbins,nbs,1),marker='o',label='actual_HMCAntiBonding')\n",
    "# # # axx.plot(exT,exBonding,'k--',label='exact')\n",
    "# # # axx.plot(exT,exAntiBonding,'k--')\n",
    "# # axx.set_xlabel(r'$t$',fontsize=18)\n",
    "# # axx.set_yscale('log')\n",
    "# # axx.grid()\n",
    "# # axx.legend(loc='best')\n",
    "\n",
    "plt.suptitle('U={}, beta={}, Nt={} samples={} \\n HMC:using L2HMC w/o NN'.format(U,beta,Nt,nTrajs,fontsize=20))\n",
    "\n",
    "# #axx.plot(exT[::50],exBonding[::50],'ro',label='exactBonding')\n",
    "# #axx.plot(exT[::50],exAntiBonding[::50],'bo',label='exactAntibonding')\n",
    "# #axx.plot(np.array(a_corrBond) - np.array(corrBond),'ro',label= r'$diff_Bonding$')\n",
    "# #axx.plot(np.array(a_corrAntiBond) - np.array(corrAntiBond),'bo', label = '$diff_Antibonding$')\n",
    "\n",
    "# plt.savefig(\"L2HMCBonding_U{}B{}Nt{}_{}.png\".format(U,beta,Nt,count))"
   ]
  },
  {
   "cell_type": "code",
   "execution_count": null,
   "metadata": {},
   "outputs": [],
   "source": [
    "fig,ax = plt.subplots(2,2,figsize=(15,10),sharex=True)\n",
    "\n",
    "aax = ax[0][0]\n",
    "aax.plot(exT,exAA,'k--',label='exact')\n",
    "aax.errorbar(tau,cAA,yerr=binAndBoot(Cxx,nbins,nbs,1),marker='o',label='L2HMC')\n",
    "aax.errorbar(a_tau,a_cAA,yerr=binAndBoot(a_Cxx,nbins,nbs,1),marker='o',label='HMC')\n",
    "# aax.errorbar(b_tau,b_cAA,yerr=binAndBoot(b_Cxx,nbins,nbs,1),marker='o',label='actual_HMC')\n",
    "aax.set_yscale('log')\n",
    "aax.legend(loc='best')\n",
    "aax.set_ylabel(r'$C_{AA}(\\tau)$')\n",
    "aax.grid()\n",
    "\n",
    "aax = ax[0][1]\n",
    "aax.plot(exT,exAB,'k--',label='exact')\n",
    "aax.errorbar(tau,cAB,yerr=binAndBoot(Cxy,nbins,nbs,1),marker='o',label='L2HMC')\n",
    "aax.errorbar(a_tau,a_cAB,yerr=binAndBoot(a_Cxy,nbins,nbs,1),marker='o',label='HMC')\n",
    "# aax.errorbar(b_tau,b_cAB,yerr=binAndBoot(b_Cxy,nbins,nbs,1),marker='o',label='actual_HMC')\n",
    "aax.set_ylabel(r'$C_{AB}(\\tau)$')\n",
    "aax.legend(loc='best')\n",
    "aax.grid()\n",
    "\n",
    "aax = ax[1][0]\n",
    "aax.plot(exT,exBA,'k--',label='exact')\n",
    "aax.errorbar(tau,cBA,yerr=binAndBoot(Cyx,nbins,nbs,1),marker='o',label='L2HMC')\n",
    "aax.errorbar(a_tau,a_cBA,yerr=binAndBoot(a_Cyx,nbins,nbs,1),marker='o',label='HMC')\n",
    "# aax.errorbar(b_tau,b_cBA,yerr=binAndBoot(b_Cyx,nbins,nbs,1),marker='o',label='actual_HMC')\n",
    "aax.grid()\n",
    "aax.set_xlabel(r'$\\tau$')\n",
    "aax.set_ylabel(r'$C_{BA}(\\tau)$')\n",
    "aax.legend(loc='best')\n",
    "\n",
    "aax = ax[1][1]\n",
    "aax.plot(exT,exBB,'k--',label='exact')\n",
    "aax.errorbar(tau,cBB,yerr=binAndBoot(Cyy,nbins,nbs,1),marker='o',label='L2HMC')\n",
    "aax.errorbar(a_tau,a_cBB,yerr=binAndBoot(a_Cyy,nbins,nbs,1),marker='o',label='HMC')\n",
    "# aax.errorbar(b_tau,b_cBB,yerr=binAndBoot(b_Cyy,nbins,nbs,1),marker='o',label='actual_HMC')\n",
    "aax.grid()\n",
    "aax.set_yscale('log')\n",
    "aax.set_xlabel(r'$\\tau$')\n",
    "aax.set_ylabel(r'$C_{BB}(\\tau)$')\n",
    "aax.legend(loc='best')\n",
    "\n",
    "plt.suptitle('U={}, beta={}, Nt={}, samples={} \\n HMC:using L2HMC w/o NN'.format(U,beta,Nt,nTrajs,fontsize=20))\n",
    "# plt.savefig(\"L2HMCCorAll_U{}B{}Nt{}_{}.png\".format(U,beta,Nt,count))"
   ]
  },
  {
   "cell_type": "code",
   "execution_count": 100,
   "metadata": {},
   "outputs": [
    {
     "data": {
      "text/plain": [
       "Text(0.5, 0.98, 'U=4.0, beta=6.0, Nt=32, samples=1')"
      ]
     },
     "execution_count": 100,
     "metadata": {},
     "output_type": "execute_result"
    },
    {
     "data": {
      "image/png": "[encoded data removed]",
      "text/plain": [
       "<Figure size 1080x720 with 4 Axes>"
      ]
     },
     "metadata": {
      "needs_background": "light"
     },
     "output_type": "display_data"
    }
   ],
   "source": [
    "fig,ax = plt.subplots(2,2,figsize=(15,10),sharex=True)\n",
    "\n",
    "aax = ax[0][0]\n",
    "aax.plot(exT,exAA,'k--',label='exact')\n",
    "aax.errorbar(tau,cAA,yerr=binAndBoot(Cxx,nbins,nbs,1),marker='o',label='L2HMC')\n",
    "aax.set_yscale('log')\n",
    "aax.legend(loc='best')\n",
    "aax.set_ylabel(r'$C_{AA}(\\tau)$')\n",
    "aax.grid()\n",
    "\n",
    "aax = ax[0][1]\n",
    "aax.plot(exT,exAB,'k--',label='exact')\n",
    "aax.errorbar(tau,cAB,yerr=binAndBoot(Cxy,nbins,nbs,1),marker='o',label='L2HMC')\n",
    "aax.set_ylabel(r'$C_{AB}(\\tau)$')\n",
    "aax.legend(loc='best')\n",
    "aax.grid()\n",
    "\n",
    "aax = ax[1][0]\n",
    "aax.plot(exT,exBA,'k--',label='exact')\n",
    "aax.errorbar(tau,cBA,yerr=binAndBoot(Cyx,nbins,nbs,1),marker='o',label='L2HMC')\n",
    "aax.grid()\n",
    "aax.set_xlabel(r'$\\tau$')\n",
    "aax.set_ylabel(r'$C_{BA}(\\tau)$')\n",
    "aax.legend(loc='best')\n",
    "\n",
    "aax = ax[1][1]\n",
    "aax.plot(exT,exBB,'k--',label='exact')\n",
    "aax.errorbar(tau,cBB,yerr=binAndBoot(Cyy,nbins,nbs,1),marker='o',label='L2HMC')\n",
    "aax.grid()\n",
    "aax.set_yscale('log')\n",
    "aax.set_xlabel(r'$\\tau$')\n",
    "aax.set_ylabel(r'$C_{BB}(\\tau)$')\n",
    "aax.legend(loc='best')\n",
    "\n",
    "plt.suptitle('U={}, beta={}, Nt={}, samples={}'.format(U,beta,Nt,nTrajs,fontsize=20))\n",
    "# plt.savefig(\"L2HMCCor_U{}B{}Nt{}_{}.png\".format(U,beta,Nt,count))"
   ]
  },
  {
   "cell_type": "code",
   "execution_count": null,
   "metadata": {},
   "outputs": [],
   "source": []
  }
 ],
 "metadata": {
  "kernelspec": {
   "display_name": "Python 3",
   "language": "python",
   "name": "python3"
  },
  "language_info": {
   "codemirror_mode": {
    "name": "ipython",
    "version": 3
   },
   "file_extension": ".py",
   "mimetype": "text/x-python",
   "name": "python",
   "nbconvert_exporter": "python",
   "pygments_lexer": "ipython3",
   "version": "3.7.4"
  }
 },
 "nbformat": 4,
 "nbformat_minor": 2
}
